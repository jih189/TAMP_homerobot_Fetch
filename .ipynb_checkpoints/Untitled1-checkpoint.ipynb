{
 "cells": [
  {
   "cell_type": "code",
   "execution_count": 1,
   "id": "70bddf74",
   "metadata": {},
   "outputs": [],
   "source": [
    "import sys\n",
    "import copy\n",
    "import rospy\n",
    "import moveit_commander\n",
    "import moveit_msgs.msg\n",
    "import geometry_msgs.msg\n",
    "from moveit_msgs.srv import GetStateValidity, GetStateValidityRequest\n",
    "from moveit_msgs.srv import GetJointWithConstraints, GetJointWithConstraintsRequest\n",
    "from moveit_msgs.msg import RobotState\n",
    "from moveit_msgs.msg import Constraints, OrientationConstraint\n",
    "from moveit_msgs.msg import MoveItErrorCodes\n",
    "from geometry_msgs.msg import Quaternion, Pose, PoseStamped"
   ]
  },
  {
   "cell_type": "code",
   "execution_count": 2,
   "id": "2c49d14c",
   "metadata": {},
   "outputs": [],
   "source": [
    "moveit_commander.roscpp_initialize(sys.argv)"
   ]
  },
  {
   "cell_type": "code",
   "execution_count": 3,
   "id": "0bf9290d",
   "metadata": {},
   "outputs": [],
   "source": [
    "rospy.init_node('constrained_motion_planning_test', anonymous=True)"
   ]
  },
  {
   "cell_type": "code",
   "execution_count": 4,
   "id": "7d2d16c0",
   "metadata": {},
   "outputs": [],
   "source": [
    "robot = moveit_commander.RobotCommander()\n",
    "scene = moveit_commander.PlanningSceneInterface()\n",
    "move_group = moveit_commander.MoveGroupCommander(\"arm\")\n",
    "joint_names = move_group.get_active_joints()\n",
    "state_validity_service = rospy.ServiceProxy('/check_state_validity', GetStateValidity)\n",
    "sample_joint_with_constraints_service = rospy.ServiceProxy('/sample_joint_with_constraints', GetJointWithConstraints)"
   ]
  },
  {
   "cell_type": "code",
   "execution_count": 5,
   "id": "d4deba7b",
   "metadata": {},
   "outputs": [],
   "source": [
    "# load the obstacle\n",
    "shelf_pose = PoseStamped()\n",
    "shelf_pose.header.frame_id = \"base_link\"\n",
    "shelf_pose.pose.position.x = 0.88\n",
    "shelf_pose.pose.position.y = 0.23\n",
    "shelf_pose.pose.position.z = 0\n",
    "shelf_pose.pose.orientation.x = 0\n",
    "shelf_pose.pose.orientation.y = 0\n",
    "shelf_pose.pose.orientation.z = 1\n",
    "shelf_pose.pose.orientation.w = 0\n",
    "scene.add_mesh('shelf', shelf_pose, 'constraint_scene/Gruppe_21/model.stl', (0.02, 0.03, 0.02))\n"
   ]
  },
  {
   "cell_type": "code",
   "execution_count": 6,
   "id": "0b06ca5f",
   "metadata": {},
   "outputs": [],
   "source": [
    "horizontal_constraint = Constraints()\n",
    "horizontal_constraint.name = \"use_equality_constraints\"\n",
    "\n",
    "oc = OrientationConstraint()\n",
    "\n",
    "oc.parameterization = OrientationConstraint.ROTATION_VECTOR;\n",
    "oc.header.frame_id = \"base_link\";\n",
    "oc.header.stamp = rospy.Time(0)\n",
    "oc.link_name = \"wrist_roll_link\";\n",
    "constrained_quaternion = Quaternion();\n",
    "constrained_quaternion.x = 0.0\n",
    "constrained_quaternion.y = 0.0\n",
    "constrained_quaternion.z = 0.0\n",
    "constrained_quaternion.w = 1.0\n",
    "oc.orientation = constrained_quaternion\n",
    "oc.weight = 1.0\n",
    "\n",
    "oc.absolute_x_axis_tolerance = 0.1\n",
    "oc.absolute_y_axis_tolerance = 0.1\n",
    "oc.absolute_z_axis_tolerance = 2 * 3.1415\n",
    "horizontal_constraint.orientation_constraints.append(oc)\n",
    "\n",
    "# need to set in-hand pose\n",
    "in_hand_pose = Pose()\n",
    "in_hand_pose.position.x = 0.0\n",
    "in_hand_pose.position.y = 0.0\n",
    "in_hand_pose.position.z = 0.0\n",
    "in_hand_pose.orientation.x = 0.0\n",
    "in_hand_pose.orientation.y = 0.0\n",
    "in_hand_pose.orientation.z = 0.0\n",
    "in_hand_pose.orientation.w = 1.0\n",
    "horizontal_constraint.in_hand_pose = in_hand_pose"
   ]
  },
  {
   "cell_type": "code",
   "execution_count": 7,
   "id": "c4b0ae7f",
   "metadata": {},
   "outputs": [
    {
     "name": "stdout",
     "output_type": "stream",
     "text": [
      "('error code of init sample ', val: 1)\n",
      "('error code of target sample ', val: 1)\n"
     ]
    }
   ],
   "source": [
    "sample_request = GetJointWithConstraintsRequest()\n",
    "sample_request.constraints = horizontal_constraint\n",
    "sample_request.group_name = \"arm\"\n",
    "init_sample = sample_joint_with_constraints_service(sample_request)\n",
    "goal_sample = sample_joint_with_constraints_service(sample_request)\n",
    "print(\"error code of init sample \", init_sample.error_code)\n",
    "print(\"error code of target sample \", goal_sample.error_code)"
   ]
  },
  {
   "cell_type": "code",
   "execution_count": 8,
   "id": "980f368d",
   "metadata": {},
   "outputs": [],
   "source": [
    "def getProperJointState(all_name, all_joint, selected_name):\n",
    "    result = []\n",
    "    for sn in selected_name:\n",
    "        result.append(all_joint[all_name.index(sn)])\n",
    "    return result"
   ]
  },
  {
   "cell_type": "code",
   "execution_count": 9,
   "id": "575e7079",
   "metadata": {},
   "outputs": [],
   "source": [
    "init_joint = getProperJointState(init_sample.solution.joint_state.name, init_sample.solution.joint_state.position, joint_names)\n",
    "goal_joint = getProperJointState(goal_sample.solution.joint_state.name, goal_sample.solution.joint_state.position, joint_names)"
   ]
  },
  {
   "cell_type": "code",
   "execution_count": 10,
   "id": "c10cadf5",
   "metadata": {},
   "outputs": [
    {
     "name": "stdout",
     "output_type": "stream",
     "text": [
      "[-1.4204039776749908, 0.8254245884540731, 0.636140245744365, 2.2151925947045483, -1.2498569323723467, 0.5129901213375365, -1.4158296514271818]\n",
      "[-0.485, -0.5616303789349353, 0.4609653280583892, -1.6501620271299888, 1.876337445187528, 1.8745786012569825, 0.658881812075359]\n"
     ]
    }
   ],
   "source": [
    "print init_joint\n",
    "print goal_joint\n",
    "goal_joint = [-0.08726646259971647, 0.6806784082777885, 1.2566370614359172, -2.1467549799530254, -2.426007660272118, -1.9024088846738192, 2.181661564992912]"
   ]
  },
  {
   "cell_type": "code",
   "execution_count": 12,
   "id": "4736894a",
   "metadata": {},
   "outputs": [],
   "source": [
    "moveit_robot_state = RobotState()\n",
    "moveit_robot_state.joint_state.name = joint_names\n",
    "moveit_robot_state.joint_state.position = init_joint\n",
    "\n",
    "move_group.set_planner_id('CBIRRTConfigDefault')\n",
    "move_group.set_planning_time(10.0)\n",
    "move_group.set_path_constraints(horizontal_constraint)\n",
    "move_group.set_in_hand_pose(in_hand_pose)\n",
    "move_group.set_clean_planning_context_flag(True)\n",
    "\n",
    "move_group.set_start_state(moveit_robot_state)\n",
    "move_group.set_joint_value_target(goal_joint)\n",
    "result = move_group.plan()"
   ]
  },
  {
   "cell_type": "code",
   "execution_count": null,
   "id": "4e601885",
   "metadata": {},
   "outputs": [],
   "source": [
    "import math\n",
    "degrees = [-5,39,72,-123,-139,-109,125]\n",
    "radians = [math.radians(d) for d in degrees]\n",
    "\n",
    "print(radians)"
   ]
  },
  {
   "cell_type": "code",
   "execution_count": null,
   "id": "8f9ad0c2",
   "metadata": {},
   "outputs": [],
   "source": []
  }
 ],
 "metadata": {
  "kernelspec": {
   "display_name": "Python 2",
   "language": "python",
   "name": "python2"
  },
  "language_info": {
   "codemirror_mode": {
    "name": "ipython",
    "version": 2
   },
   "file_extension": ".py",
   "mimetype": "text/x-python",
   "name": "python",
   "nbconvert_exporter": "python",
   "pygments_lexer": "ipython2",
   "version": "2.7.17"
  }
 },
 "nbformat": 4,
 "nbformat_minor": 5
}
