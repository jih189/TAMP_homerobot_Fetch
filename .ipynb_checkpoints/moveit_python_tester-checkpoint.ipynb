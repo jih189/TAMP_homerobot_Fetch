{
 "cells": [
  {
   "cell_type": "code",
   "execution_count": 1,
   "id": "6be19cd5",
   "metadata": {},
   "outputs": [],
   "source": [
    "import sys\n",
    "import copy\n",
    "import rospy\n",
    "import moveit_commander\n",
    "import moveit_msgs.msg\n",
    "import geometry_msgs.msg\n",
    "from moveit_msgs.srv import GetStateValidity, GetStateValidityRequest\n",
    "from moveit_msgs.srv import GetJointWithConstraints, GetJointWithConstraintsRequest\n",
    "from moveit_msgs.msg import RobotState\n",
    "from moveit_msgs.msg import Constraints, OrientationConstraint\n",
    "from geometry_msgs.msg import Quaternion, Pose"
   ]
  },
  {
   "cell_type": "code",
   "execution_count": 2,
   "id": "62d312ee",
   "metadata": {},
   "outputs": [],
   "source": [
    "moveit_commander.roscpp_initialize(sys.argv)"
   ]
  },
  {
   "cell_type": "code",
   "execution_count": 3,
   "id": "743e3143",
   "metadata": {},
   "outputs": [],
   "source": [
    "robot = moveit_commander.RobotCommander()\n",
    "scene = moveit_commander.PlanningSceneInterface()\n",
    "move_group = moveit_commander.MoveGroupCommander(\"arm\")\n",
    "joint_names = move_group.get_active_joints()\n",
    "state_validity_service = rospy.ServiceProxy('/check_state_validity', GetStateValidity)\n",
    "sample_joint_with_constraints_service = rospy.ServiceProxy('/sample_joint_with_constraints', GetJointWithConstraints)"
   ]
  },
  {
   "cell_type": "code",
   "execution_count": 4,
   "id": "bb1b5846",
   "metadata": {},
   "outputs": [],
   "source": [
    "horizontal_constraint = Constraints()\n",
    "horizontal_constraint.name = \"use_equality_constraints\"\n",
    "\n",
    "oc = OrientationConstraint()\n",
    "\n",
    "oc.parameterization = OrientationConstraint.ROTATION_VECTOR;\n",
    "oc.header.frame_id = \"base_link\";\n",
    "oc.header.stamp = rospy.Time(0)\n",
    "oc.link_name = \"wrist_roll_link\";\n",
    "constrained_quaternion = Quaternion();\n",
    "constrained_quaternion.x = 0.0\n",
    "constrained_quaternion.y = 0.0\n",
    "constrained_quaternion.z = 0.0\n",
    "constrained_quaternion.w = 1.0\n",
    "oc.orientation = constrained_quaternion\n",
    "oc.weight = 1.0\n",
    "\n",
    "oc.absolute_x_axis_tolerance = 0.1\n",
    "oc.absolute_y_axis_tolerance = 0.1\n",
    "oc.absolute_z_axis_tolerance = 2 * 3.1415\n",
    "horizontal_constraint.orientation_constraints.append(oc)\n",
    "\n",
    "# need to set in-hand pose\n",
    "in_hand_pose = Pose()\n",
    "in_hand_pose.position.x = 0.0\n",
    "in_hand_pose.position.y = 0.0\n",
    "in_hand_pose.position.z = 0.0\n",
    "in_hand_pose.orientation.x = 0.0\n",
    "in_hand_pose.orientation.y = 0.0\n",
    "in_hand_pose.orientation.z = 0.0\n",
    "in_hand_pose.orientation.w = 1.0\n",
    "horizontal_constraint.in_hand_pose = in_hand_pose"
   ]
  },
  {
   "cell_type": "code",
   "execution_count": 5,
   "id": "13f6eb21",
   "metadata": {},
   "outputs": [],
   "source": [
    "sample_request = GetJointWithConstraintsRequest()\n",
    "sample_request.constraints = horizontal_constraint\n",
    "init_sample = sample_joint_with_constraints_service(sample_request)\n",
    "goal_sample = sample_joint_with_constraints_service(sample_request)\n",
    "print(\"error code of init sample \", init_sample.error_code)\n",
    "print(\"error code of target sample \", goal_sample.error_code)"
   ]
  },
  {
   "cell_type": "code",
   "execution_count": 6,
   "id": "6c737dc3",
   "metadata": {},
   "outputs": [],
   "source": [
    "def getProperJointState(all_name, all_joint, selected_name):\n",
    "    result = []\n",
    "    for sn in selected_name:\n",
    "        result.append(all_joint[all_name.index(sn)])\n",
    "    return result"
   ]
  },
  {
   "cell_type": "code",
   "execution_count": 7,
   "id": "7d3ff389",
   "metadata": {},
   "outputs": [
    {
     "ename": "ValueError",
     "evalue": "'shoulder_pan_joint' is not in list",
     "output_type": "error",
     "traceback": [
      "\u001b[0;31m------------------------------------------------------\u001b[0m",
      "\u001b[0;31mValueError\u001b[0m           Traceback (most recent call last)",
      "\u001b[0;32m<ipython-input-7-c21d1cc6fe36>\u001b[0m in \u001b[0;36m<module>\u001b[0;34m()\u001b[0m\n\u001b[1;32m      1\u001b[0m \u001b[0minit_joint\u001b[0m \u001b[0;34m=\u001b[0m \u001b[0mgetProperJointState\u001b[0m\u001b[0;34m(\u001b[0m\u001b[0minit_sample\u001b[0m\u001b[0;34m.\u001b[0m\u001b[0msolution\u001b[0m\u001b[0;34m.\u001b[0m\u001b[0mjoint_state\u001b[0m\u001b[0;34m.\u001b[0m\u001b[0mname\u001b[0m\u001b[0;34m,\u001b[0m \u001b[0minit_sample\u001b[0m\u001b[0;34m.\u001b[0m\u001b[0msolution\u001b[0m\u001b[0;34m.\u001b[0m\u001b[0mjoint_state\u001b[0m\u001b[0;34m.\u001b[0m\u001b[0mposition\u001b[0m\u001b[0;34m,\u001b[0m \u001b[0mjoint_names\u001b[0m\u001b[0;34m)\u001b[0m\u001b[0;34m\u001b[0m\u001b[0m\n\u001b[0;32m----> 2\u001b[0;31m \u001b[0mgoal_joint\u001b[0m \u001b[0;34m=\u001b[0m \u001b[0mgetProperJointState\u001b[0m\u001b[0;34m(\u001b[0m\u001b[0mgoal_sample\u001b[0m\u001b[0;34m.\u001b[0m\u001b[0msolution\u001b[0m\u001b[0;34m.\u001b[0m\u001b[0mjoint_state\u001b[0m\u001b[0;34m.\u001b[0m\u001b[0mname\u001b[0m\u001b[0;34m,\u001b[0m \u001b[0mgoal_sample\u001b[0m\u001b[0;34m.\u001b[0m\u001b[0msolution\u001b[0m\u001b[0;34m.\u001b[0m\u001b[0mjoint_state\u001b[0m\u001b[0;34m.\u001b[0m\u001b[0mposition\u001b[0m\u001b[0;34m,\u001b[0m \u001b[0mjoint_names\u001b[0m\u001b[0;34m)\u001b[0m\u001b[0;34m\u001b[0m\u001b[0m\n\u001b[0m",
      "\u001b[0;32m<ipython-input-6-08424ce5b979>\u001b[0m in \u001b[0;36mgetProperJointState\u001b[0;34m(all_name, all_joint, selected_name)\u001b[0m\n\u001b[1;32m      2\u001b[0m     \u001b[0mresult\u001b[0m \u001b[0;34m=\u001b[0m \u001b[0;34m[\u001b[0m\u001b[0;34m]\u001b[0m\u001b[0;34m\u001b[0m\u001b[0m\n\u001b[1;32m      3\u001b[0m     \u001b[0;32mfor\u001b[0m \u001b[0msn\u001b[0m \u001b[0;32min\u001b[0m \u001b[0mselected_name\u001b[0m\u001b[0;34m:\u001b[0m\u001b[0;34m\u001b[0m\u001b[0m\n\u001b[0;32m----> 4\u001b[0;31m         \u001b[0mresult\u001b[0m\u001b[0;34m.\u001b[0m\u001b[0mappend\u001b[0m\u001b[0;34m(\u001b[0m\u001b[0mall_joint\u001b[0m\u001b[0;34m[\u001b[0m\u001b[0mall_name\u001b[0m\u001b[0;34m.\u001b[0m\u001b[0mindex\u001b[0m\u001b[0;34m(\u001b[0m\u001b[0msn\u001b[0m\u001b[0;34m)\u001b[0m\u001b[0;34m]\u001b[0m\u001b[0;34m)\u001b[0m\u001b[0;34m\u001b[0m\u001b[0m\n\u001b[0m\u001b[1;32m      5\u001b[0m     \u001b[0;32mreturn\u001b[0m \u001b[0mresult\u001b[0m\u001b[0;34m\u001b[0m\u001b[0m\n",
      "\u001b[0;31mValueError\u001b[0m: 'shoulder_pan_joint' is not in list"
     ]
    }
   ],
   "source": [
    "init_joint = getProperJointState(init_sample.solution.joint_state.name, init_sample.solution.joint_state.position, joint_names)\n",
    "goal_joint = getProperJointState(goal_sample.solution.joint_state.name, goal_sample.solution.joint_state.position, joint_names)"
   ]
  },
  {
   "cell_type": "code",
   "execution_count": null,
   "id": "a06a663e",
   "metadata": {},
   "outputs": [],
   "source": [
    "print init_joint\n",
    "print goal_joint"
   ]
  },
  {
   "cell_type": "code",
   "execution_count": null,
   "id": "131e710b",
   "metadata": {},
   "outputs": [],
   "source": [
    "moveit_robot_state = RobotState()\n",
    "moveit_robot_state.joint_state.name = joint_names\n",
    "moveit_robot_state.joint_state.position = init_joint\n",
    "\n",
    "move_group.set_start_state(moveit_robot_state)\n",
    "move_group.set_joint_value_target(goal_joint)\n",
    "result = move_group.plan()"
   ]
  },
  {
   "cell_type": "code",
   "execution_count": null,
   "id": "8da3596e",
   "metadata": {},
   "outputs": [],
   "source": [
    "# random sample two arm configurations\n",
    "def getValidJoints(move_group, joint_names, state_validity_service):\n",
    "    '''\n",
    "    Return a valid joint values of the Fetch. If something stuck here, it can be\n",
    "    caused by too little joint values are valid.\n",
    "    output: success, joint value\n",
    "    '''\n",
    "    count = 0\n",
    "    while count < 10:\n",
    "        joint_values = move_group.get_random_joint_values()\n",
    "        # Create a GetStateValidityRequest object\n",
    "        request = GetStateValidityRequest()\n",
    "        request.robot_state.joint_state.name = joint_names\n",
    "        request.robot_state.joint_state.position = joint_values\n",
    "        result = state_validity_service(request)\n",
    "        if result.valid:\n",
    "            return True, joint_values\n",
    "        count += 1\n",
    "    return False, None"
   ]
  },
  {
   "cell_type": "code",
   "execution_count": null,
   "id": "44676356",
   "metadata": {},
   "outputs": [],
   "source": [
    "_, init_joint = getValidJoints(move_group, joint_names, state_validity_service)\n",
    "_, goal_joint = getValidJoints(move_group, joint_names, state_validity_service)"
   ]
  },
  {
   "cell_type": "code",
   "execution_count": null,
   "id": "b38f00df",
   "metadata": {},
   "outputs": [],
   "source": [
    "print init_joint\n",
    "print goal_joint"
   ]
  },
  {
   "cell_type": "code",
   "execution_count": null,
   "id": "9ba37b33",
   "metadata": {},
   "outputs": [],
   "source": []
  },
  {
   "cell_type": "code",
   "execution_count": null,
   "id": "7d6d3a66",
   "metadata": {},
   "outputs": [],
   "source": []
  },
  {
   "cell_type": "code",
   "execution_count": null,
   "id": "2063e713",
   "metadata": {},
   "outputs": [],
   "source": []
  }
 ],
 "metadata": {
  "kernelspec": {
   "display_name": "Python 2",
   "language": "python",
   "name": "python2"
  },
  "language_info": {
   "codemirror_mode": {
    "name": "ipython",
    "version": 2
   },
   "file_extension": ".py",
   "mimetype": "text/x-python",
   "name": "python",
   "nbconvert_exporter": "python",
   "pygments_lexer": "ipython2",
   "version": "2.7.17"
  }
 },
 "nbformat": 4,
 "nbformat_minor": 5
}
