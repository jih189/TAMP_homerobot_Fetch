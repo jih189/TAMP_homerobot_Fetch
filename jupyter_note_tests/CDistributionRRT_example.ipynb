{
 "cells": [
  {
   "cell_type": "code",
   "execution_count": null,
   "id": "0c135475",
   "metadata": {},
   "outputs": [],
   "source": [
    "import sys\n",
    "import rospy\n",
    "import moveit_commander\n",
    "from moveit_msgs.srv import GetJointWithConstraints, GetJointWithConstraintsRequest\n",
    "from moveit_msgs.msg import RobotState, Constraints, OrientationConstraint, MoveItErrorCodes, SamplingDistribution\n",
    "from geometry_msgs.msg import Quaternion, Pose\n",
    "import numpy as np"
   ]
  },
  {
   "cell_type": "code",
   "execution_count": null,
   "id": "ff44ebbc",
   "metadata": {},
   "outputs": [],
   "source": [
    "moveit_commander.roscpp_initialize(sys.argv)\n",
    "rospy.init_node('constrained_motion_planning_test', anonymous=True)"
   ]
  },
  {
   "cell_type": "code",
   "execution_count": null,
   "id": "f7ea2685",
   "metadata": {},
   "outputs": [],
   "source": [
    "robot = moveit_commander.RobotCommander()\n",
    "scene = moveit_commander.PlanningSceneInterface()\n",
    "move_group = moveit_commander.MoveGroupCommander(\"arm\")\n",
    "joint_names = move_group.get_active_joints()\n",
    "sample_joint_with_constraints_service = rospy.ServiceProxy('/sample_joint_with_constraints', GetJointWithConstraints)"
   ]
  },
  {
   "cell_type": "code",
   "execution_count": null,
   "id": "b316723f",
   "metadata": {},
   "outputs": [],
   "source": [
    "move_group.set_planner_id('CDISTRIBUTIONRRTConfigDefault')"
   ]
  },
  {
   "cell_type": "code",
   "execution_count": null,
   "id": "628ef0eb",
   "metadata": {},
   "outputs": [],
   "source": [
    "# initial a constraint\n",
    "horizontal_constraint = Constraints()\n",
    "horizontal_constraint.name = \"use_equality_constraints\"\n",
    "\n",
    "oc = OrientationConstraint()\n",
    "\n",
    "oc.parameterization = OrientationConstraint.ROTATION_VECTOR;\n",
    "oc.header.frame_id = \"base_link\";\n",
    "oc.header.stamp = rospy.Time(0)\n",
    "oc.link_name = \"wrist_roll_link\";\n",
    "constrained_quaternion = Quaternion();\n",
    "constrained_quaternion.x = 0.0\n",
    "constrained_quaternion.y = 0.0\n",
    "constrained_quaternion.z = 0.0\n",
    "constrained_quaternion.w = 1.0\n",
    "oc.orientation = constrained_quaternion\n",
    "oc.weight = 1.0\n",
    "\n",
    "oc.absolute_x_axis_tolerance = 0.1\n",
    "oc.absolute_y_axis_tolerance = 0.1\n",
    "oc.absolute_z_axis_tolerance = 2 * 3.1415\n",
    "horizontal_constraint.orientation_constraints.append(oc)\n",
    "\n",
    "# need to set in-hand pose\n",
    "in_hand_pose = Pose()\n",
    "in_hand_pose.position.x = 0.0\n",
    "in_hand_pose.position.y = 0.0\n",
    "in_hand_pose.position.z = 0.0\n",
    "in_hand_pose.orientation.x = 0.0\n",
    "in_hand_pose.orientation.y = 0.0\n",
    "in_hand_pose.orientation.z = 0.0\n",
    "in_hand_pose.orientation.w = 1.0\n",
    "horizontal_constraint.in_hand_pose = in_hand_pose"
   ]
  },
  {
   "cell_type": "code",
   "execution_count": null,
   "id": "6a2c3ee7",
   "metadata": {},
   "outputs": [],
   "source": [
    "# sample start and goal configuration satisfying constraint\n",
    "sample_request = GetJointWithConstraintsRequest()\n",
    "sample_request.constraints = horizontal_constraint\n",
    "sample_request.group_name = \"arm\"\n",
    "init_sample = sample_joint_with_constraints_service(sample_request)\n",
    "goal_sample = sample_joint_with_constraints_service(sample_request)\n",
    "print(\"error code of init sample \", init_sample.error_code)\n",
    "print(\"error code of target sample \", goal_sample.error_code)"
   ]
  },
  {
   "cell_type": "code",
   "execution_count": null,
   "id": "25eb6f4c",
   "metadata": {},
   "outputs": [],
   "source": [
    "def getProperJointState(all_name, all_joint, selected_name):\n",
    "    result = []\n",
    "    for sn in selected_name:\n",
    "        result.append(all_joint[all_name.index(sn)])\n",
    "    return result"
   ]
  },
  {
   "cell_type": "code",
   "execution_count": null,
   "id": "3903f329",
   "metadata": {},
   "outputs": [],
   "source": [
    "# convert them into joint\n",
    "init_joint = getProperJointState(init_sample.solution.joint_state.name, init_sample.solution.joint_state.position, joint_names)\n",
    "goal_joint = getProperJointState(goal_sample.solution.joint_state.name, goal_sample.solution.joint_state.position, joint_names)"
   ]
  },
  {
   "cell_type": "code",
   "execution_count": null,
   "id": "ad83c8ea",
   "metadata": {},
   "outputs": [],
   "source": [
    "# set start and goal arm configurations\n",
    "moveit_robot_state = RobotState()\n",
    "moveit_robot_state.joint_state.name = joint_names\n",
    "moveit_robot_state.joint_state.position = init_joint\n",
    "\n",
    "move_group.set_start_state(moveit_robot_state)\n",
    "move_group.set_joint_value_target(goal_joint)\n",
    "\n",
    "# set distribution\n",
    "distribution_sequence = []\n",
    "\n",
    "mean = np.zeros(7)\n",
    "covariance = np.eye(7)\n",
    "\n",
    "distribution = SamplingDistribution()\n",
    "distribution.distribution_mean = mean.tolist()\n",
    "distribution.distribution_convariance = covariance.flatten().tolist()\n",
    "distribution_sequence.append(distribution)\n",
    "\n",
    "move_group.set_distribution(distribution_sequence)\n",
    "# clean the motion planner data(if you use some prm like motion planner)\n",
    "move_group.set_clean_planning_context_flag(True)\n",
    "# you must set path constraint for CDistribution rrt, or it will cause error in moveit.\n",
    "move_group.set_path_constraints(horizontal_constraint)\n",
    "move_group.set_in_hand_pose(in_hand_pose)\n",
    "result = move_group.plan()\n",
    "\n",
    "# you must clear them for next planning.\n",
    "move_group.clear_in_hand_pose()\n",
    "move_group.clear_path_constraints()\n",
    "move_group.clear_distribution()"
   ]
  }
 ],
 "metadata": {
  "kernelspec": {
   "display_name": "Python 2",
   "language": "python",
   "name": "python2"
  },
  "language_info": {
   "codemirror_mode": {
    "name": "ipython",
    "version": 2
   },
   "file_extension": ".py",
   "mimetype": "text/x-python",
   "name": "python",
   "nbconvert_exporter": "python",
   "pygments_lexer": "ipython2",
   "version": "2.7.17"
  }
 },
 "nbformat": 4,
 "nbformat_minor": 5
}
