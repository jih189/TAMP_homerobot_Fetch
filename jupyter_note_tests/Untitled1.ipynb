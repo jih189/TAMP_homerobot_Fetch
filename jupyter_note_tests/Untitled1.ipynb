{
 "cells": [
  {
   "cell_type": "code",
   "execution_count": 1,
   "id": "0f364cb4",
   "metadata": {},
   "outputs": [],
   "source": [
    "import numpy as np"
   ]
  },
  {
   "cell_type": "code",
   "execution_count": 2,
   "id": "d23c3b36",
   "metadata": {},
   "outputs": [],
   "source": [
    "a = np.array([[0.1, 0.2, 0.3], [0.4, 0.5, 0.6], [0.7, 0.8, 0.9]])\n",
    "b = np.array([1,2,3])"
   ]
  },
  {
   "cell_type": "code",
   "execution_count": 3,
   "id": "be236b24",
   "metadata": {},
   "outputs": [
    {
     "data": {
      "text/plain": [
       "array([[0.1, 0.4, 0.9],\n",
       "       [0.4, 1. , 1.8],\n",
       "       [0.7, 1.6, 2.7]])"
      ]
     },
     "execution_count": 3,
     "metadata": {},
     "output_type": "execute_result"
    }
   ],
   "source": [
    "a * b"
   ]
  },
  {
   "cell_type": "code",
   "execution_count": 4,
   "id": "b1aa37d1",
   "metadata": {},
   "outputs": [
    {
     "data": {
      "text/plain": [
       "array([[0.9, 0.8, 0.7],\n",
       "       [0.6, 0.5, 0.4],\n",
       "       [0.3, 0.2, 0.1]])"
      ]
     },
     "execution_count": 4,
     "metadata": {},
     "output_type": "execute_result"
    }
   ],
   "source": [
    "1.0 - a"
   ]
  },
  {
   "cell_type": "code",
   "execution_count": 5,
   "id": "653cf5d3",
   "metadata": {},
   "outputs": [
    {
     "data": {
      "text/plain": [
       "array([[-0.8, -0.4,  0.2],\n",
       "       [-0.2,  0.5,  1.4],\n",
       "       [ 0.4,  1.4,  2.6]])"
      ]
     },
     "execution_count": 5,
     "metadata": {},
     "output_type": "execute_result"
    }
   ],
   "source": [
    "a * b - (1.0 - a)"
   ]
  },
  {
   "cell_type": "code",
   "execution_count": 6,
   "id": "d729d846",
   "metadata": {},
   "outputs": [
    {
     "data": {
      "text/plain": [
       "array([0.2, 1.4, 2.6])"
      ]
     },
     "execution_count": 6,
     "metadata": {},
     "output_type": "execute_result"
    }
   ],
   "source": [
    "np.max(a * b - (1.0 - a), axis=1)"
   ]
  },
  {
   "cell_type": "code",
   "execution_count": 7,
   "id": "13874230",
   "metadata": {},
   "outputs": [
    {
     "data": {
      "text/plain": [
       "array([[0., 0., 0.],\n",
       "       [0., 0., 0.],\n",
       "       [0., 0., 0.]])"
      ]
     },
     "execution_count": 7,
     "metadata": {},
     "output_type": "execute_result"
    }
   ],
   "source": [
    "a - a"
   ]
  },
  {
   "cell_type": "code",
   "execution_count": 8,
   "id": "ce527ada",
   "metadata": {},
   "outputs": [],
   "source": [
    "from scipy.sparse import dok_matrix"
   ]
  },
  {
   "cell_type": "code",
   "execution_count": 35,
   "id": "47c161ef",
   "metadata": {},
   "outputs": [],
   "source": [
    "c = dok_matrix((3,3))\n",
    "d = dok_matrix((1,3))\n",
    "e = dok_matrix((3,3))\n",
    "c[0, 0] = 0.1\n",
    "c[0, 1] = 0.2\n",
    "c[0, 2] = 0.3\n",
    "c[1, 0] = 0.4\n",
    "c[1, 1] = 0.5\n",
    "c[1, 2] = 0.6\n",
    "c[2, 0] = 0.7\n",
    "c[2, 1] = 0.8\n",
    "c[2, 2] = 0.9\n",
    "\n",
    "\n",
    "d[0, 0] = 1\n",
    "d[0, 1] = 2\n",
    "d[0, 2] = 3\n",
    "\n",
    "e[0, 0] = 0.1\n",
    "e[0, 1] = 0.2\n",
    "e[0, 2] = 0.3\n",
    "e[1, 0] = 0.4\n",
    "e[1, 1] = 0.5\n",
    "e[1, 2] = 0.6\n",
    "e[2, 0] = 0.7\n",
    "e[2, 1] = 0.8\n",
    "e[2, 2] = 0.9"
   ]
  },
  {
   "cell_type": "code",
   "execution_count": 34,
   "id": "0820ae04",
   "metadata": {},
   "outputs": [
    {
     "data": {
      "text/plain": [
       "array([[0.1, 0.4, 0.9],\n",
       "       [0.4, 1. , 1.8],\n",
       "       [0.7, 1.6, 2.7]])"
      ]
     },
     "execution_count": 34,
     "metadata": {},
     "output_type": "execute_result"
    }
   ],
   "source": [
    "(c.multiply(d)).toarray()"
   ]
  },
  {
   "cell_type": "code",
   "execution_count": 40,
   "id": "d8f6650a",
   "metadata": {},
   "outputs": [
    {
     "data": {
      "text/plain": [
       "array([[-0.1, -0.2, -0.3],\n",
       "       [-0.4, -0.5, -0.6],\n",
       "       [-0.7, -0.8, -0.9]])"
      ]
     },
     "execution_count": 40,
     "metadata": {},
     "output_type": "execute_result"
    }
   ],
   "source": [
    "(-1 * e).toarray()"
   ]
  },
  {
   "cell_type": "code",
   "execution_count": 41,
   "id": "ecd4b0e5",
   "metadata": {},
   "outputs": [
    {
     "data": {
      "text/plain": [
       "<3x3 sparse matrix of type '<type 'numpy.float64'>'\n",
       "\twith 9 stored elements in Dictionary Of Keys format>"
      ]
     },
     "execution_count": 41,
     "metadata": {},
     "output_type": "execute_result"
    }
   ],
   "source": [
    "e.copy()"
   ]
  },
  {
   "cell_type": "code",
   "execution_count": 42,
   "id": "2dc67cb1",
   "metadata": {},
   "outputs": [
    {
     "ename": "ImportError",
     "evalue": "No module named torch",
     "output_type": "error",
     "traceback": [
      "\u001b[0;31m---------------------------------------------------------------------------\u001b[0m",
      "\u001b[0;31mImportError\u001b[0m                               Traceback (most recent call last)",
      "\u001b[0;32m<ipython-input-42-eb42ca6e4af3>\u001b[0m in \u001b[0;36m<module>\u001b[0;34m()\u001b[0m\n\u001b[0;32m----> 1\u001b[0;31m \u001b[0;32mimport\u001b[0m \u001b[0mtorch\u001b[0m\u001b[0;34m\u001b[0m\u001b[0m\n\u001b[0m",
      "\u001b[0;31mImportError\u001b[0m: No module named torch"
     ]
    }
   ],
   "source": [
    "import torch"
   ]
  },
  {
   "cell_type": "code",
   "execution_count": null,
   "id": "112db3a6",
   "metadata": {},
   "outputs": [],
   "source": []
  }
 ],
 "metadata": {
  "kernelspec": {
   "display_name": "Python 2",
   "language": "python",
   "name": "python2"
  },
  "language_info": {
   "codemirror_mode": {
    "name": "ipython",
    "version": 2
   },
   "file_extension": ".py",
   "mimetype": "text/x-python",
   "name": "python",
   "nbconvert_exporter": "python",
   "pygments_lexer": "ipython2",
   "version": "2.7.17"
  }
 },
 "nbformat": 4,
 "nbformat_minor": 5
}
