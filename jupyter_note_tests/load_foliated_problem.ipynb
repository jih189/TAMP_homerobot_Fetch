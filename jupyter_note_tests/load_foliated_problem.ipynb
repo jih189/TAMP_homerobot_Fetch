{
 "cells": [
  {
   "cell_type": "code",
   "execution_count": 2,
   "id": "715a27b6-acbd-4e0b-b834-aabbecdb0f59",
   "metadata": {},
   "outputs": [
    {
     "ename": "ImportError",
     "evalue": "No module named jiaming_task_planner",
     "output_type": "error",
     "traceback": [
      "\u001b[0;31m---------------------------------------------------------------------------\u001b[0m",
      "\u001b[0;31mImportError\u001b[0m                               Traceback (most recent call last)",
      "\u001b[0;32m<ipython-input-2-6ce4a66693f6>\u001b[0m in \u001b[0;36m<module>\u001b[0;34m()\u001b[0m\n\u001b[1;32m      2\u001b[0m \u001b[0;32mfrom\u001b[0m \u001b[0mfoliated_problem\u001b[0m \u001b[0;32mimport\u001b[0m \u001b[0mFoliatedProblem\u001b[0m\u001b[0;34m,\u001b[0m \u001b[0mFoliatedIntersection\u001b[0m\u001b[0;34m\u001b[0m\u001b[0m\n\u001b[1;32m      3\u001b[0m \u001b[0;32mfrom\u001b[0m \u001b[0mmanipulation_foliations_and_intersections\u001b[0m \u001b[0;32mimport\u001b[0m \u001b[0mManipulationFoliation\u001b[0m\u001b[0;34m,\u001b[0m \u001b[0mManipulationIntersection\u001b[0m\u001b[0;34m\u001b[0m\u001b[0m\n\u001b[0;32m----> 4\u001b[0;31m \u001b[0;32mfrom\u001b[0m \u001b[0mjiaming_task_planner\u001b[0m \u001b[0;32mimport\u001b[0m \u001b[0mMTGTaskPlanner\u001b[0m\u001b[0;34m,\u001b[0m \u001b[0mMDPTaskPlanner\u001b[0m\u001b[0;34m,\u001b[0m \u001b[0mMTGTaskPlannerWithGMM\u001b[0m\u001b[0;34m,\u001b[0m \u001b[0mMDPTaskPlannerWithGMM\u001b[0m\u001b[0;34m,\u001b[0m \u001b[0mGMM\u001b[0m\u001b[0;34m\u001b[0m\u001b[0m\n\u001b[0m\u001b[1;32m      5\u001b[0m \u001b[0;34m\u001b[0m\u001b[0m\n\u001b[1;32m      6\u001b[0m \u001b[0;32mimport\u001b[0m \u001b[0msys\u001b[0m\u001b[0;34m\u001b[0m\u001b[0m\n",
      "\u001b[0;31mImportError\u001b[0m: No module named jiaming_task_planner"
     ]
    }
   ],
   "source": [
    "#!/usr/bin/env python\n",
    "from foliated_problem import FoliatedProblem, FoliatedIntersection\n",
    "from manipulation_foliations_and_intersections import ManipulationFoliation, ManipulationIntersection\n",
    "from jiaming_task_planner import MTGTaskPlanner, MDPTaskPlanner, MTGTaskPlannerWithGMM, MDPTaskPlannerWithGMM, GMM\n",
    "\n",
    "import sys\n",
    "import rospy\n",
    "import rospkg\n",
    "\n",
    "\n",
    "if __name__ == \"__main__\":\n",
    "\n",
    "    rospack = rospkg.RosPack()\n",
    "    \n",
    "    # Get the path of the desired package\n",
    "    package_path = rospack.get_path('task_planner')\n",
    "\n",
    "    # load the gmm\n",
    "    gmm_dir_path = package_path + '/computed_gmms_dir/dpgmm/'\n",
    "    gmm = GMM()\n",
    "    gmm.load_distributions(gmm_dir_path)\n",
    "\n",
    "    # load the foliated problem\n",
    "    loaded_foliated_problem = FoliatedProblem.load(ManipulationFoliation, ManipulationIntersection, package_path + \"/check\")\n",
    "\n",
    "    # load it into the task planner.\n",
    "    task_planner = MTGTaskPlanner()\n",
    "    # task_planner = MDPTaskPlanner()\n",
    "    # task_planner = MTGTaskPlannerWithGMM(gmm)\n",
    "    # task_planner = MDPTaskPlannerWithGMM(gmm)\n",
    "\n",
    "\n",
    "    task_planner.reset_task_planner()\n",
    "\n",
    "    task_planner.load_foliated_problem(loaded_foliated_problem)\n",
    "\n",
    "    task_planner.set_start_and_goal(\n",
    "        (0,0),\n",
    "        ManipulationIntersection(action='start', motion=[[0.0, 0.0, 0.0, 0.0, 0.0, 0.0, 0.0]]),\n",
    "        (1,1),\n",
    "        ManipulationIntersection(action='start', motion=[[0.0, 0.0, 0.0, 0.0, 0.0, 0.0, 0.0]])\n",
    "    )\n",
    "\n",
    "    task_sequence = task_planner.generate_task_sequence()\n",
    "\n",
    "    for task in task_sequence:\n",
    "        print \"-------------------\"\n",
    "        print \"start configuration\"\n",
    "        print(task.start_configuration)\n",
    "        print \"goal configuration\"\n",
    "        print(task.goal_configuration)\n",
    "        print \"constraints\"\n",
    "        print task.manifold_detail.foliation.foliation_name\n",
    "        print task.manifold_detail.co_parameter_index\n",
    "        print task.manifold_detail.foliation.constraint_parameters\n",
    "        print \"action on goal\"\n",
    "        print task.next_motion\n"
   ]
  },
  {
   "cell_type": "code",
   "execution_count": null,
   "id": "6a0d87dc-69ab-463a-ade4-634b231b8e1e",
   "metadata": {},
   "outputs": [],
   "source": []
  }
 ],
 "metadata": {
  "kernelspec": {
   "display_name": "Python 2",
   "language": "python",
   "name": "python2"
  },
  "language_info": {
   "codemirror_mode": {
    "name": "ipython",
    "version": 2
   },
   "file_extension": ".py",
   "mimetype": "text/x-python",
   "name": "python",
   "nbconvert_exporter": "python",
   "pygments_lexer": "ipython2",
   "version": "2.7.17"
  }
 },
 "nbformat": 4,
 "nbformat_minor": 5
}
