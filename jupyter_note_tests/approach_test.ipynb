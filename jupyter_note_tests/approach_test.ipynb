{
 "cells": [
  {
   "cell_type": "code",
   "execution_count": 1,
   "id": "0ecd27e1",
   "metadata": {},
   "outputs": [],
   "source": [
    "# approach the object\n",
    "import rospy\n",
    "from geometry_msgs.msg import Twist, PoseWithCovariance, PoseWithCovarianceStamped, Pose\n",
    "import actionlib\n",
    "from control_msgs.msg import FollowJointTrajectoryAction, FollowJointTrajectoryGoal\n",
    "from trajectory_msgs.msg import JointTrajectory, JointTrajectoryPoint\n",
    "from rail_segmentation.srv import *\n",
    "from rail_manipulation_msgs.srv import *\n",
    "import tf2_ros\n",
    "import numpy as np\n",
    "from sensor_msgs.msg import PointCloud2\n",
    "import sensor_msgs.point_cloud2 as pc2\n",
    "from ros_numpy import numpify, msgify\n",
    "from sensor_msgs.msg import LaserScan\n",
    "import math\n",
    "from nav_msgs.msg import OccupancyGrid\n",
    "from nav_msgs.srv import SetMap, SetMapRequest"
   ]
  },
  {
   "cell_type": "code",
   "execution_count": 2,
   "id": "ef4832c8",
   "metadata": {},
   "outputs": [],
   "source": [
    "rospy.init_node('command_sender', anonymous=True)\n",
    "base_pub = rospy.Publisher('/cmd_vel', Twist, queue_size=10)\n",
    "rate = rospy.Rate(10)  # Adjust the frequency as per your requirement"
   ]
  },
  {
   "cell_type": "code",
   "execution_count": 3,
   "id": "45611e2d",
   "metadata": {},
   "outputs": [],
   "source": [
    "# get laser scan transform from tf tree\n",
    "tfBuffer = tf2_ros.Buffer()\n",
    "listener = tf2_ros.TransformListener(tfBuffer)"
   ]
  },
  {
   "cell_type": "code",
   "execution_count": 4,
   "id": "ff91d101",
   "metadata": {},
   "outputs": [],
   "source": [
    "try:\n",
    "    laser_trans = tfBuffer.lookup_transform('base_link', 'laser_link', rospy.Time())\n",
    "    laser_pose = numpify(laser_trans.transform)\n",
    "except (tf2_ros.LookupException, tf2_ros.ConnectivityException, tf2_ros.ExtrapolationException):\n",
    "    print(\"tf error\")"
   ]
  },
  {
   "cell_type": "code",
   "execution_count": 5,
   "id": "494d00ae",
   "metadata": {},
   "outputs": [],
   "source": [
    "def convert_pointcloud2_to_pc(pointcloud2_msg):\n",
    "    pc_data = pc2.read_points(pointcloud2_msg, skip_nans=True, field_names=(\"x\", \"y\", \"z\"))\n",
    "    pc_list = []\n",
    "\n",
    "    for p in pc_data:\n",
    "        pc_list.append([p[0], p[1], p[2]])\n",
    "\n",
    "    pc_array = np.array(pc_list, dtype=np.float32)\n",
    "\n",
    "    return pc_array\n",
    "\n",
    "def move_base(base_pub_, linear_vel, angular_vel):\n",
    "    cmd_vel = Twist()\n",
    "    cmd_vel.linear.x = linear_vel\n",
    "    cmd_vel.angular.z = angular_vel\n",
    "    base_pub_.publish(cmd_vel)"
   ]
  },
  {
   "cell_type": "code",
   "execution_count": 6,
   "id": "f4c0b01f",
   "metadata": {},
   "outputs": [],
   "source": [
    "disc_size = .04\n",
    "# Discretization Factor\n",
    "disc_factor = 1/disc_size\n",
    "# Max Lidar Range\n",
    "max_lidar_range = 3\n",
    "# Create Image Size Using Range and Discretization Factor\n",
    "image_size = int(max_lidar_range*2*disc_factor)"
   ]
  },
  {
   "cell_type": "code",
   "execution_count": 7,
   "id": "58aa5841",
   "metadata": {},
   "outputs": [],
   "source": [
    "# based on the current scan data, generate a local map\n",
    "current_scan_data = rospy.wait_for_message(\"/base_scan\", LaserScan)\n",
    "# print current_scan_data\n",
    "\n",
    "maxAngle = current_scan_data.angle_max\n",
    "minAngle = current_scan_data.angle_min\n",
    "angleInc = current_scan_data.angle_increment\n",
    "maxLength = current_scan_data.range_max\n",
    "ranges = current_scan_data.ranges\n",
    "num_pts = len(ranges)\n",
    "xy_scan = np.zeros((num_pts,2))\n",
    "blank_image = np.zeros((image_size,image_size,3),dtype=np.uint8)\n",
    "\n",
    "map_resolution = 0.1  # Resolution of the occupancy grid (meters per cell)\n",
    "map_width = 100       # Width of the occupancy grid (number of cells)\n",
    "map_height = 100  \n",
    "\n",
    "# generate occupancy_grid map\n",
    "occupancy_grid = OccupancyGrid()\n",
    "occupancy_grid.header.frame_id = 'map'\n",
    "occupancy_grid.info.width = map_width\n",
    "occupancy_grid.info.height = map_height\n",
    "occupancy_grid.info.resolution = map_resolution\n",
    "occupancy_grid.info.origin.position.x = -map_width * map_resolution / 2.0\n",
    "occupancy_grid.info.origin.position.y = -map_height * map_resolution / 2.0\n",
    "occupancy_grid.info.origin.orientation.w = 1.0\n",
    "\n",
    "occupancy_grid.data = np.ones(map_width * map_height, dtype=np.int8) * -1\n",
    "\n",
    "x_indices = np.clip(np.round((current_scan_data.ranges * np.cos(current_scan_data.angle_increment * np.arange(len(current_scan_data.ranges))) - occupancy_grid.info.origin.position.x) / map_resolution).astype(np.int32), 0, map_width - 1)\n",
    "y_indices = np.clip(np.round((current_scan_data.ranges * np.sin(current_scan_data.angle_increment * np.arange(len(current_scan_data.ranges))) - occupancy_grid.info.origin.position.y) / map_resolution).astype(np.int32), 0, map_height - 1)\n",
    "indices = np.ravel_multi_index((x_indices, y_indices), (map_width, map_height))\n",
    "\n",
    "# Set the occupied cells in the occupancy grid\n",
    "occupancy_grid.data[indices] = 100\n",
    "\n",
    "# Loop through all points converting distance and angle to X,Y point\n",
    "for i in range(num_pts):\n",
    "    # Check that distance is not longer than it should be\n",
    "    if (ranges[i] > maxLength - 0.1) or (math.isnan(ranges[i])):\n",
    "        pass\n",
    "    else:\n",
    "        # Calculate angle of point and calculate X,Y position\n",
    "        angle = minAngle + float(i)*angleInc\n",
    "        xy_scan[i][0] = float(ranges[i]*math.cos(angle))\n",
    "        xy_scan[i][1] = float(ranges[i]*math.sin(angle))\n",
    "\n",
    "# Loop through all points plot in blank_image\n",
    "for i in range(num_pts):\n",
    "    if xy_scan[i,0] == 0 and xy_scan[i,1] == 0:\n",
    "        continue\n",
    "    point_in_base_link = np.dot(laser_pose, np.array([xy_scan[i,0], xy_scan[i,1], 0, 1]))\n",
    "    pt_x = point_in_base_link[0]\n",
    "    pt_y = point_in_base_link[1]\n",
    "    if (pt_x < max_lidar_range) or (pt_x > -1 * (max_lidar_range-disc_size)) or (pt_y < max_lidar_range) or (pt_y > -1 * (max_lidar_range-disc_size)):\n",
    "        pix_x = int(math.floor((pt_x + max_lidar_range) * disc_factor))\n",
    "        pix_y = int(math.floor((max_lidar_range - pt_y) * disc_factor))\n",
    "        if (pix_x > image_size) or (pix_y > image_size):\n",
    "            print \"Error\"\n",
    "        else:\n",
    "            blank_image[pix_y,pix_x] = [0,0,255]\n",
    "\n",
    "# show the robot point\n",
    "pt_x = 0\n",
    "pt_y = 0\n",
    "if (pt_x < max_lidar_range) or (pt_x > -1 * (max_lidar_range-disc_size)) or (pt_y < max_lidar_range) or (pt_y > -1 * (max_lidar_range-disc_size)):\n",
    "    pix_x = int(math.floor((pt_x + max_lidar_range) * disc_factor))\n",
    "    pix_y = int(math.floor((max_lidar_range - pt_y) * disc_factor))\n",
    "    blank_image[pix_y,pix_x] = [255,0,0]\n",
    "\n",
    "blank_image[(blank_image == [0, 0, 0]).all(axis=-1)] = [255, 255, 255]"
   ]
  },
  {
   "cell_type": "code",
   "execution_count": 8,
   "id": "3c3997f9",
   "metadata": {},
   "outputs": [],
   "source": [
    "rospy.wait_for_service('/set_map')\n",
    "map_setter = rospy.ServiceProxy('/set_map', SetMap)"
   ]
  },
  {
   "cell_type": "code",
   "execution_count": 10,
   "id": "07c67b47",
   "metadata": {},
   "outputs": [
    {
     "data": {
      "text/plain": [
       "success: True"
      ]
     },
     "execution_count": 10,
     "metadata": {},
     "output_type": "execute_result"
    }
   ],
   "source": [
    "pose_with_convariance_stamped = PoseWithCovarianceStamped()\n",
    "pose_with_convariance_stamped.header.frame_id = 'map'\n",
    "pose_with_covariance = PoseWithCovariance()\n",
    "cpose = Pose()\n",
    "cpose.position.x = 1.0\n",
    "cpose.position.y = 0\n",
    "cpose.position.z = 0\n",
    "cpose.orientation.x = 0\n",
    "cpose.orientation.y = 0\n",
    "cpose.orientation.z = 0\n",
    "cpose.orientation.w = 1\n",
    "# cpose \n",
    "pose_with_covariance.pose = cpose\n",
    "pose_with_covariance.covariance = np.array([1,   0,   0,   0,   0,   0,\n",
    "                               0,   1,   0,   0,   0,   0,\n",
    "                               0,   0,   1,   0,   0,   0,\n",
    "                               0,   0,   0,   1,   0,   0,\n",
    "                               0,   0,   0,   0,   1,   0,\n",
    "                               0,   0,   0,   0,   0,   .7])**2\n",
    "pose_with_convariance_stamped.pose = pose_with_covariance\n",
    "map_setter(occupancy_grid, pose_with_convariance_stamped)"
   ]
  },
  {
   "cell_type": "code",
   "execution_count": null,
   "id": "6077adac",
   "metadata": {},
   "outputs": [],
   "source": [
    "%matplotlib inline \n",
    "from matplotlib import pyplot as plt\n",
    "plt.figure(figsize=(12,12))\n",
    "plt.imshow(blank_image)\n",
    "plt.show()"
   ]
  },
  {
   "cell_type": "code",
   "execution_count": null,
   "id": "f7cc575f",
   "metadata": {},
   "outputs": [],
   "source": [
    "# find the table first\n",
    "rospy.wait_for_service('table_searcher/search_table')\n",
    "table_searcher = rospy.ServiceProxy('table_searcher/search_table', SearchTable)"
   ]
  },
  {
   "cell_type": "code",
   "execution_count": null,
   "id": "0d2dd870",
   "metadata": {},
   "outputs": [],
   "source": [
    "table_info = table_searcher()"
   ]
  },
  {
   "cell_type": "code",
   "execution_count": null,
   "id": "1038ef3b",
   "metadata": {},
   "outputs": [],
   "source": [
    "table_pc = convert_pointcloud2_to_pc(table_info.point_cloud)"
   ]
  },
  {
   "cell_type": "code",
   "execution_count": null,
   "id": "77c17933",
   "metadata": {},
   "outputs": [],
   "source": [
    "# Loop through all points plot in blank_image\n",
    "for table_point in table_pc:\n",
    "    pt_x = table_point[0]\n",
    "    pt_y = table_point[1]\n",
    "    if (pt_x < max_lidar_range) or (pt_x > -1 * (max_lidar_range-disc_size)) or (pt_y < max_lidar_range) or (pt_y > -1 * (max_lidar_range-disc_size)):\n",
    "        pix_x = int(math.floor((pt_x + max_lidar_range) * disc_factor))\n",
    "        pix_y = int(math.floor((max_lidar_range - pt_y) * disc_factor))\n",
    "        if (pix_x > image_size) or (pix_y > image_size):\n",
    "            print \"Error\"\n",
    "        elif not np.array_equal(blank_image[pix_y,pix_x], [0, 0, 255]):\n",
    "            blank_image[pix_y,pix_x] = [0,255,255]"
   ]
  },
  {
   "cell_type": "code",
   "execution_count": null,
   "id": "db6b5ce0",
   "metadata": {},
   "outputs": [],
   "source": [
    "plt.figure(figsize=(12,12))\n",
    "plt.imshow(blank_image)\n",
    "plt.show()"
   ]
  },
  {
   "cell_type": "code",
   "execution_count": null,
   "id": "dc1990ce",
   "metadata": {},
   "outputs": [],
   "source": [
    "# search for the object\n",
    "rospy.wait_for_service('table_searcher/segment_objects')\n",
    "object_searcher = rospy.ServiceProxy('table_searcher/segment_objects', SegmentObjects)"
   ]
  },
  {
   "cell_type": "code",
   "execution_count": null,
   "id": "caca88ad",
   "metadata": {},
   "outputs": [],
   "source": [
    "detected_objects = object_searcher()\n",
    "print(\"detected objects' number: \", len(detected_objects.segmented_objects.objects))"
   ]
  },
  {
   "cell_type": "code",
   "execution_count": null,
   "id": "c6ca305c",
   "metadata": {},
   "outputs": [],
   "source": [
    "object_pc = convert_pointcloud2_to_pc(detected_objects.segmented_objects.objects[0].point_cloud)\n",
    "object_mean_point = np.mean(object_pc, axis=0)\n",
    "print \"object mean point \", object_mean_point"
   ]
  },
  {
   "cell_type": "code",
   "execution_count": null,
   "id": "e8becea3",
   "metadata": {},
   "outputs": [],
   "source": [
    "# Loop through all points plot in blank_image\n",
    "for object_point in object_pc:\n",
    "    pt_x = object_point[0]\n",
    "    pt_y = object_point[1]\n",
    "    if (pt_x < max_lidar_range) or (pt_x > -1 * (max_lidar_range-disc_size)) or (pt_y < max_lidar_range) or (pt_y > -1 * (max_lidar_range-disc_size)):\n",
    "        pix_x = int(math.floor((pt_x + max_lidar_range) * disc_factor))\n",
    "        pix_y = int(math.floor((max_lidar_range - pt_y) * disc_factor))\n",
    "        if (pix_x > image_size) or (pix_y > image_size):\n",
    "            print \"Error\"\n",
    "        elif not np.array_equal(blank_image[pix_y,pix_x], [0, 0, 255]):\n",
    "            blank_image[pix_y,pix_x] = [0,255,0]\n",
    "            \n",
    "            "
   ]
  },
  {
   "cell_type": "code",
   "execution_count": null,
   "id": "67ed39a8",
   "metadata": {},
   "outputs": [],
   "source": [
    "plt.figure(figsize=(12,12))\n",
    "plt.imshow(blank_image)\n",
    "plt.show()"
   ]
  },
  {
   "cell_type": "code",
   "execution_count": null,
   "id": "95cb2d97",
   "metadata": {},
   "outputs": [],
   "source": [
    "# interpolate from base to object point\n",
    "step_size = 0.1\n",
    "step = (object_mean_point[:2] / np.linalg.norm(object_mean_point[:2])) * step_size\n",
    "print step"
   ]
  },
  {
   "cell_type": "code",
   "execution_count": null,
   "id": "d1aabdd0",
   "metadata": {},
   "outputs": [],
   "source": [
    "current_point = np.array([0.0, 0.0])\n",
    "robot_size = int(math.floor(0.3 * disc_factor))\n",
    "stand_position = np.array([0.0,0.0])\n",
    "while np.linalg.norm(object_mean_point[:2] - current_point) > (step_size * 1.2):\n",
    "    current_point += step\n",
    "    \n",
    "    # show the robot point\n",
    "    pt_x = current_point[0]\n",
    "    pt_y = current_point[1]\n",
    "    pix_x = int(math.floor((pt_x + max_lidar_range) * disc_factor))\n",
    "    pix_y = int(math.floor((max_lidar_range - pt_y) * disc_factor))\n",
    "    \n",
    "    current_image = blank_image[pix_y - robot_size: pix_y + robot_size, pix_x - robot_size: pix_x + robot_size]\n",
    "    if np.any(np.all(np.array([0, 255, 255]) == current_image, axis=-1)):\n",
    "        # meet the table\n",
    "        stand_position[0] = current_point[0]\n",
    "        stand_position[1] = current_point[1]\n",
    "        break\n",
    "        \n",
    "print \"stand position for manipulation\"\n",
    "print stand_position\n",
    "        \n",
    "pix_x = int(math.floor((stand_position[0] + max_lidar_range) * disc_factor))\n",
    "pix_y = int(math.floor((max_lidar_range - stand_position[1]) * disc_factor))\n",
    "blank_image[pix_y,pix_x] = [0,0,0]\n"
   ]
  },
  {
   "cell_type": "code",
   "execution_count": null,
   "id": "8d814f57",
   "metadata": {},
   "outputs": [],
   "source": [
    "plt.figure(figsize=(12,12))\n",
    "plt.imshow(blank_image)\n",
    "plt.show()"
   ]
  },
  {
   "cell_type": "code",
   "execution_count": null,
   "id": "003c3d9c",
   "metadata": {},
   "outputs": [],
   "source": []
  }
 ],
 "metadata": {
  "kernelspec": {
   "display_name": "Python 2",
   "language": "python",
   "name": "python2"
  },
  "language_info": {
   "codemirror_mode": {
    "name": "ipython",
    "version": 2
   },
   "file_extension": ".py",
   "mimetype": "text/x-python",
   "name": "python",
   "nbconvert_exporter": "python",
   "pygments_lexer": "ipython2",
   "version": "2.7.17"
  }
 },
 "nbformat": 4,
 "nbformat_minor": 5
}
