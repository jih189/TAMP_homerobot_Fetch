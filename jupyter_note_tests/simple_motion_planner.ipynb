{
 "cells": [
  {
   "cell_type": "code",
   "execution_count": 12,
   "metadata": {},
   "outputs": [],
   "source": [
    "from ompl import base as ob\n",
    "from ompl import geometric as og"
   ]
  },
  {
   "cell_type": "code",
   "execution_count": 13,
   "metadata": {},
   "outputs": [],
   "source": [
    "space = ob.SE2StateSpace()\n",
    "\n",
    "bounds = ob.RealVectorBounds(2)\n",
    "bounds.setLow(-1)\n",
    "bounds.setHigh(1)\n",
    "space.setBounds(bounds)"
   ]
  },
  {
   "cell_type": "code",
   "execution_count": 14,
   "metadata": {},
   "outputs": [],
   "source": [
    "si = ob.SpaceInformation(space)\n",
    "\n",
    "def isStateValid(state):\n",
    "    return True\n",
    "\n",
    "si.setStateValidityChecker(ob.StateValidityCheckerFn(isStateValid))\n",
    "\n",
    "start = ob.State(space)\n",
    "goal = ob.State(space)\n",
    "\n",
    "start().setXY(0, 0)\n",
    "goal().setXY(3.5, 3.5)\n",
    "\n",
    "pdef = ob.ProblemDefinition(si)\n",
    "pdef.setStartAndGoalStates(start, goal)"
   ]
  },
  {
   "cell_type": "code",
   "execution_count": 15,
   "metadata": {},
   "outputs": [],
   "source": [
    "rrt = og.RRT(si)\n",
    "rrt.setRange(0.1) \n",
    "rrt.setGoalBias(0.1)  "
   ]
  },
  {
   "cell_type": "code",
   "execution_count": 16,
   "metadata": {},
   "outputs": [
    {
     "name": "stdout",
     "output_type": "stream",
     "text": [
      "Found solution:Info:    RRT: Space information setup was not yet called. Calling now.\n",
      "Info:    RRT: Starting planning with 1 states already in datastructure\n",
      "Info:    RRT: Created 402 states\n",
      " 0 0 0 \n",
      "0.0707107 0.0707107 0 \n",
      "0.141421 0.141421 0 \n",
      "0.212132 0.212132 0 \n",
      "0.282843 0.282843 0 \n",
      "0.353553 0.353553 0 \n",
      "0.424264 0.424264 0 \n",
      "0.494975 0.494975 0 \n",
      "0.565685 0.565685 0 \n",
      "0.636396 0.636396 0 \n",
      "0.634005 0.704543 -0.0636224 \n",
      "0.698358 0.708249 -0.134703 \n",
      "0.768007 0.777653 -0.131354 \n",
      "0.837657 0.847057 -0.128005 \n",
      "0.907307 0.91646 -0.124657 \n",
      "0.976956 0.985864 -0.121308 \n",
      "1.04661 1.05527 -0.117959 \n",
      "1.11626 1.12467 -0.11461 \n",
      "1.1859 1.19407 -0.111262 \n",
      "1.25555 1.26348 -0.107913 \n",
      "1.3252 1.33288 -0.104564 \n",
      "1.39485 1.40229 -0.101215 \n",
      "1.4645 1.47169 -0.0978666 \n",
      "1.53415 1.54109 -0.0945179 \n",
      "1.6038 1.6105 -0.0911691 \n",
      "1.67345 1.6799 -0.0878204 \n",
      "1.7431 1.7493 -0.0844716 \n",
      "1.81275 1.81871 -0.0811229 \n",
      "1.8824 1.88811 -0.0777741 \n",
      "1.95205 1.95752 -0.0744254 \n",
      "2.0217 2.02692 -0.0710766 \n",
      "2.09135 2.09632 -0.0677279 \n",
      "2.161 2.16573 -0.0643791 \n",
      "2.23065 2.23513 -0.0610304 \n",
      "2.3003 2.30453 -0.0576816 \n",
      "2.36995 2.37394 -0.0543329 \n",
      "2.4396 2.44334 -0.0509841 \n",
      "2.50925 2.51274 -0.0476354 \n",
      "2.5789 2.58215 -0.0442866 \n",
      "2.64855 2.65155 -0.0409379 \n",
      "2.7182 2.72096 -0.0375892 \n",
      "2.78784 2.79036 -0.0342404 \n",
      "2.85749 2.85976 -0.0308917 \n",
      "2.92714 2.92917 -0.0275429 \n",
      "2.99679 2.99857 -0.0241942 \n",
      "3.06644 3.06797 -0.0208454 \n",
      "3.13609 3.13738 -0.0174967 \n",
      "3.20574 3.20678 -0.0141479 \n",
      "3.27539 3.27618 -0.0107992 \n",
      "3.34504 3.34559 -0.00745041 \n",
      "3.41469 3.41499 -0.00410167 \n",
      "3.48434 3.4844 -0.000752918 \n",
      "3.5 3.5 0 \n",
      "\n",
      "\n"
     ]
    }
   ],
   "source": [
    "rrt.setProblemDefinition(pdef)\n",
    "rrt.setup()\n",
    "solved = rrt.solve(1.0) \n",
    "\n",
    "if solved:\n",
    "    path = pdef.getSolutionPath()\n",
    "    print(\"Found solution:\", path.printAsMatrix())\n",
    "else:\n",
    "    print(\"No solution found\")"
   ]
  }
 ],
 "metadata": {
  "kernelspec": {
   "display_name": "Python 3",
   "language": "python",
   "name": "python3"
  },
  "language_info": {
   "codemirror_mode": {
    "name": "ipython",
    "version": 3
   },
   "file_extension": ".py",
   "mimetype": "text/x-python",
   "name": "python",
   "nbconvert_exporter": "python",
   "pygments_lexer": "ipython3",
   "version": "3.8.16"
  }
 },
 "nbformat": 4,
 "nbformat_minor": 2
}
