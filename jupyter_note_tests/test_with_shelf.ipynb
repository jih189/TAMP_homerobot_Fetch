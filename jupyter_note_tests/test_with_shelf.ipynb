{
 "cells": [
  {
   "cell_type": "code",
   "execution_count": 1,
   "id": "f1d9c2c0",
   "metadata": {},
   "outputs": [],
   "source": [
    "import sys\n",
    "import copy\n",
    "import rospy\n",
    "import moveit_commander\n",
    "import moveit_msgs.msg\n",
    "import geometry_msgs.msg\n",
    "from moveit_msgs.srv import GetStateValidity, GetStateValidityRequest\n",
    "from moveit_msgs.srv import GetJointWithConstraints, GetJointWithConstraintsRequest\n",
    "from moveit_msgs.msg import RobotState\n",
    "from moveit_msgs.msg import Constraints, OrientationConstraint\n",
    "from moveit_msgs.msg import MoveItErrorCodes\n",
    "from geometry_msgs.msg import Quaternion, Pose, PoseStamped, Point32\n",
    "import trimesh\n",
    "from trimesh import transformations\n",
    "import numpy as np\n",
    "from sensor_msgs.msg import PointCloud2, PointField, PointCloud\n",
    "import struct"
   ]
  },
  {
   "cell_type": "code",
   "execution_count": null,
   "id": "58758b9e",
   "metadata": {},
   "outputs": [],
   "source": [
    "def quaternion_to_rotation_matrix(q):\n",
    "    # Normalise the quaternion to unit length\n",
    "    q = q / np.linalg.norm(q)\n",
    "    \n",
    "    # Extract the values\n",
    "    qw, qx, qy, qz = q[0], q[1], q[2], q[3]\n",
    "\n",
    "    # Create the rotation matrix\n",
    "    rotation_matrix = np.array([\n",
    "        [1 - 2*qy**2 - 2*qz**2, 2*qx*qy - 2*qz*qw, 2*qx*qz + 2*qy*qw, 0.0],\n",
    "        [2*qx*qy + 2*qz*qw, 1 - 2*qx**2 - 2*qz**2, 2*qy*qz - 2*qx*qw, 0.0],\n",
    "        [2*qx*qz - 2*qy*qw, 2*qy*qz + 2*qx*qw, 1 - 2*qx**2 - 2*qy**2, 0.0],\n",
    "        [0.0,0.0,0.0,1.0]\n",
    "    ])\n",
    "    \n",
    "    return rotation_matrix"
   ]
  },
  {
   "cell_type": "code",
   "execution_count": null,
   "id": "9c604d3c",
   "metadata": {},
   "outputs": [],
   "source": [
    "moveit_commander.roscpp_initialize(sys.argv)"
   ]
  },
  {
   "cell_type": "code",
   "execution_count": null,
   "id": "a3df7f6b",
   "metadata": {},
   "outputs": [],
   "source": [
    "rospy.init_node('constrained_motion_planning_test', anonymous=True)"
   ]
  },
  {
   "cell_type": "code",
   "execution_count": null,
   "id": "62de4ea5",
   "metadata": {},
   "outputs": [],
   "source": [
    "robot = moveit_commander.RobotCommander()\n",
    "scene = moveit_commander.PlanningSceneInterface()\n",
    "move_group = moveit_commander.MoveGroupCommander(\"arm\")\n",
    "joint_names = move_group.get_active_joints()\n",
    "state_validity_service = rospy.ServiceProxy('/check_state_validity', GetStateValidity)\n",
    "sample_joint_with_constraints_service = rospy.ServiceProxy('/sample_joint_with_constraints', GetJointWithConstraints)"
   ]
  },
  {
   "cell_type": "code",
   "execution_count": null,
   "id": "30637596",
   "metadata": {},
   "outputs": [],
   "source": [
    "# load the obstacle\n",
    "shelf_pose = PoseStamped()\n",
    "shelf_pose.header.frame_id = \"base_link\"\n",
    "shelf_pose.pose.position.x = 0.88\n",
    "shelf_pose.pose.position.y = 0.23\n",
    "shelf_pose.pose.position.z = 0\n",
    "shelf_pose.pose.orientation.x = 0\n",
    "shelf_pose.pose.orientation.y = 0\n",
    "shelf_pose.pose.orientation.z = 1\n",
    "shelf_pose.pose.orientation.w = 0\n",
    "scene.add_mesh('shelf', shelf_pose, 'constraint_scene/Gruppe_21/model.stl', (0.02, 0.03, 0.02))"
   ]
  },
  {
   "cell_type": "code",
   "execution_count": null,
   "id": "6b6b963d",
   "metadata": {},
   "outputs": [],
   "source": [
    "def sample_points_on_mesh(mesh, num_points):\n",
    "    # Calculate the area of each face\n",
    "    face_areas = mesh.area_faces\n",
    "\n",
    "    # Normalize the face areas to create a probability distribution\n",
    "    face_probs = face_areas / face_areas.sum()\n",
    "\n",
    "    # Sample face indices based on their probabilities\n",
    "    sampled_face_indices = np.random.choice(len(mesh.faces), size=num_points, p=face_probs)\n",
    "\n",
    "    # Sample barycentric coordinates for each point\n",
    "    u = np.random.rand(num_points, 1)\n",
    "    v = np.random.rand(num_points, 1)\n",
    "    out_of_range = u + v > 1\n",
    "    u[out_of_range] = 1 - u[out_of_range]\n",
    "    v[out_of_range] = 1 - v[out_of_range]\n",
    "    w = 1 - u - v\n",
    "\n",
    "    # Calculate the 3D Cartesian coordinates of the sampled points\n",
    "    vertices = mesh.vertices[mesh.faces[sampled_face_indices]]\n",
    "    sampled_points = u * vertices[:, 0] + v * vertices[:, 1] + w * vertices[:, 2]\n",
    "\n",
    "    return sampled_points"
   ]
  },
  {
   "cell_type": "code",
   "execution_count": null,
   "id": "dacdd14f",
   "metadata": {},
   "outputs": [],
   "source": [
    "def numpy_to_pointcloud2(points, frame_id=\"base_link\"):\n",
    "    '''\n",
    "    convert pointcloud from numpy format to PointCloud2 in the base_link frame.\n",
    "    '''\n",
    "    pc2_msg = PointCloud2()\n",
    "    pc2_msg.header.stamp = rospy.Time.now()\n",
    "    pc2_msg.header.frame_id = frame_id\n",
    "    pc2_msg.height = 1\n",
    "    pc2_msg.width = len(points)\n",
    "    pc2_msg.fields = [\n",
    "        PointField(name=\"x\", offset=0, datatype=PointField.FLOAT32, count=1),\n",
    "        PointField(name=\"y\", offset=4, datatype=PointField.FLOAT32, count=1),\n",
    "        PointField(name=\"z\", offset=8, datatype=PointField.FLOAT32, count=1),\n",
    "    ]\n",
    "    pc2_msg.is_bigendian = False\n",
    "    pc2_msg.point_step = 12\n",
    "    pc2_msg.row_step = pc2_msg.point_step * pc2_msg.width\n",
    "    pc2_msg.is_dense = True\n",
    "\n",
    "    buffer = []\n",
    "\n",
    "    for point in points:\n",
    "        float_bytes = [struct.pack('f', coord) for coord in point]\n",
    "        buffer.append(b''.join(float_bytes))\n",
    "\n",
    "    pc2_msg.data = b''.join(buffer)\n",
    "\n",
    "    return pc2_msg"
   ]
  },
  {
   "cell_type": "code",
   "execution_count": null,
   "id": "233af3d8",
   "metadata": {},
   "outputs": [],
   "source": [
    "def numpy_to_pointcloud(points, frame_id=\"base_link\"):\n",
    "    pc_msg = PointCloud()\n",
    "    pc_msg.header.stamp = rospy.Time.now()\n",
    "    pc_msg.header.frame_id = frame_id\n",
    "\n",
    "    for point in points:\n",
    "        p = Point32()\n",
    "        p.x = point[0]\n",
    "        p.y = point[1]\n",
    "        p.z = point[2]\n",
    "        pc_msg.points.append(p)\n",
    "\n",
    "    return pc_msg"
   ]
  },
  {
   "cell_type": "code",
   "execution_count": null,
   "id": "9c771c02",
   "metadata": {},
   "outputs": [],
   "source": [
    "shelf_mesh = trimesh.load_mesh('constraint_scene/Gruppe_21/model.stl')\n",
    "shelf_mesh.apply_scale((0.02, 0.03, 0.02))\n",
    "rot_mat = quaternion_to_rotation_matrix([shelf_pose.pose.orientation.w, shelf_pose.pose.orientation.x, shelf_pose.pose.orientation.y, shelf_pose.pose.orientation.z])\n",
    "shelf_mesh.apply_transform(rot_mat)\n",
    "shelf_mesh.apply_translation((shelf_pose.pose.position.x, shelf_pose.pose.position.y, shelf_pose.pose.position.z))\n",
    "# generate pointcloud\n",
    "obstacle_point_cloud = sample_points_on_mesh(shelf_mesh, 2000)"
   ]
  },
  {
   "cell_type": "code",
   "execution_count": null,
   "id": "37ec0a9d",
   "metadata": {},
   "outputs": [],
   "source": [
    "pointcloud_pub = rospy.Publisher(\"/obstacle_point_cloud\", PointCloud2, queue_size=1)"
   ]
  },
  {
   "cell_type": "code",
   "execution_count": null,
   "id": "54b86d5b",
   "metadata": {},
   "outputs": [],
   "source": [
    "point_cloud_msg = numpy_to_pointcloud2(obstacle_point_cloud, frame_id=\"base_link\")\n",
    "pointcloud_pub.publish(point_cloud_msg)"
   ]
  },
  {
   "cell_type": "code",
   "execution_count": null,
   "id": "c82d2a67",
   "metadata": {},
   "outputs": [],
   "source": [
    "horizontal_constraint = Constraints()\n",
    "horizontal_constraint.name = \"use_equality_constraints\"\n",
    "\n",
    "oc = OrientationConstraint()\n",
    "\n",
    "oc.parameterization = OrientationConstraint.ROTATION_VECTOR;\n",
    "oc.header.frame_id = \"base_link\";\n",
    "oc.header.stamp = rospy.Time(0)\n",
    "oc.link_name = \"wrist_roll_link\";\n",
    "constrained_quaternion = Quaternion();\n",
    "constrained_quaternion.x = 0.0\n",
    "constrained_quaternion.y = 0.0\n",
    "constrained_quaternion.z = 0.0\n",
    "constrained_quaternion.w = 1.0\n",
    "oc.orientation = constrained_quaternion\n",
    "oc.weight = 1.0\n",
    "\n",
    "oc.absolute_x_axis_tolerance = 0.1\n",
    "oc.absolute_y_axis_tolerance = 0.1\n",
    "oc.absolute_z_axis_tolerance = 2 * 3.1415\n",
    "horizontal_constraint.orientation_constraints.append(oc)\n",
    "\n",
    "# need to set in-hand pose\n",
    "in_hand_pose = Pose()\n",
    "in_hand_pose.position.x = 0.0\n",
    "in_hand_pose.position.y = 0.0\n",
    "in_hand_pose.position.z = 0.0\n",
    "in_hand_pose.orientation.x = 0.0\n",
    "in_hand_pose.orientation.y = 0.0\n",
    "in_hand_pose.orientation.z = 0.0\n",
    "in_hand_pose.orientation.w = 1.0\n",
    "horizontal_constraint.in_hand_pose = in_hand_pose"
   ]
  },
  {
   "cell_type": "code",
   "execution_count": null,
   "id": "677529a8",
   "metadata": {},
   "outputs": [],
   "source": [
    "sample_request = GetJointWithConstraintsRequest()\n",
    "sample_request.constraints = horizontal_constraint\n",
    "sample_request.group_name = \"arm\"\n",
    "init_sample = sample_joint_with_constraints_service(sample_request)\n",
    "goal_sample = sample_joint_with_constraints_service(sample_request)\n",
    "print(\"error code of init sample \", init_sample.error_code)\n",
    "print(\"error code of target sample \", goal_sample.error_code)"
   ]
  },
  {
   "cell_type": "code",
   "execution_count": null,
   "id": "5dd89170",
   "metadata": {},
   "outputs": [],
   "source": [
    "def getProperJointState(all_name, all_joint, selected_name):\n",
    "    result = []\n",
    "    for sn in selected_name:\n",
    "        result.append(all_joint[all_name.index(sn)])\n",
    "    return result"
   ]
  },
  {
   "cell_type": "code",
   "execution_count": null,
   "id": "cda94b1b",
   "metadata": {},
   "outputs": [],
   "source": [
    "init_joint = getProperJointState(init_sample.solution.joint_state.name, init_sample.solution.joint_state.position, joint_names)\n",
    "goal_joint = getProperJointState(goal_sample.solution.joint_state.name, goal_sample.solution.joint_state.position, joint_names)"
   ]
  },
  {
   "cell_type": "code",
   "execution_count": null,
   "id": "e8d862b9",
   "metadata": {},
   "outputs": [],
   "source": [
    "print init_joint\n",
    "print goal_joint\n",
    "goal_joint = [-0.08726646259971647, 0.6806784082777885, 1.2566370614359172, -2.1467549799530254, -2.426007660272118, -1.9024088846738192, 2.181661564992912]"
   ]
  },
  {
   "cell_type": "code",
   "execution_count": null,
   "id": "53d1a79a",
   "metadata": {},
   "outputs": [],
   "source": [
    "moveit_robot_state = RobotState()\n",
    "moveit_robot_state.joint_state.name = joint_names\n",
    "moveit_robot_state.joint_state.position = init_joint\n",
    "\n",
    "# move_group.set_planner_id('CBIRRTConfigDefault')\n",
    "move_group.set_planner_id('CVQMPTRRTConfigDefault')\n",
    "move_group.set_planning_time(10.0)\n",
    "move_group.set_path_constraints(horizontal_constraint)\n",
    "move_group.set_in_hand_pose(in_hand_pose)\n",
    "move_group.set_clean_planning_context_flag(True)\n",
    "move_group.set_obstacle_point_cloud(numpy_to_pointcloud(obstacle_point_cloud))\n",
    "\n",
    "move_group.set_start_state(moveit_robot_state)\n",
    "move_group.set_joint_value_target(goal_joint)\n",
    "result = move_group.plan()"
   ]
  },
  {
   "cell_type": "code",
   "execution_count": null,
   "id": "d2b5c688",
   "metadata": {},
   "outputs": [],
   "source": [
    "move_group.set_planner_id('CBIRRTConfigDefault')\n",
    "# move_group.set_planner_id('CVQMPTRRTConfigDefault')\n",
    "move_group.set_planning_time(10.0)\n",
    "move_group.set_path_constraints(horizontal_constraint)\n",
    "move_group.set_in_hand_pose(in_hand_pose)\n",
    "move_group.set_clean_planning_context_flag(True)\n",
    "move_group.set_obstacle_point_cloud(numpy_to_pointcloud(obstacle_point_cloud))\n",
    "\n",
    "move_group.set_start_state(moveit_robot_state)\n",
    "move_group.set_joint_value_target(goal_joint)\n",
    "result = move_group.plan()"
   ]
  },
  {
   "cell_type": "code",
   "execution_count": null,
   "id": "d67cdac8",
   "metadata": {},
   "outputs": [],
   "source": [
    "import math\n",
    "degrees = [-5,39,72,-123,-139,-109,125]\n",
    "radians = [math.radians(d) for d in degrees]\n",
    "\n",
    "print(radians)"
   ]
  },
  {
   "cell_type": "code",
   "execution_count": null,
   "id": "cf5c7813",
   "metadata": {},
   "outputs": [],
   "source": []
  }
 ],
 "metadata": {
  "kernelspec": {
   "display_name": "Python 2",
   "language": "python",
   "name": "python2"
  },
  "language_info": {
   "codemirror_mode": {
    "name": "ipython",
    "version": 2
   },
   "file_extension": ".py",
   "mimetype": "text/x-python",
   "name": "python",
   "nbconvert_exporter": "python",
   "pygments_lexer": "ipython2",
   "version": "2.7.17"
  }
 },
 "nbformat": 4,
 "nbformat_minor": 5
}
