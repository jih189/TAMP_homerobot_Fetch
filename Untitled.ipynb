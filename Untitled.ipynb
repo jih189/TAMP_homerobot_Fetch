{
 "cells": [
  {
   "cell_type": "code",
   "execution_count": 1,
   "id": "c585b733",
   "metadata": {},
   "outputs": [],
   "source": [
    "import rospy\n",
    "import tf2_ros\n",
    "from ros_tensorflow_msgs.srv import *\n",
    "from rail_segmentation.srv import *\n",
    "from rail_manipulation_msgs.srv import *\n",
    "from geometry_msgs.msg import TransformStamped\n",
    "from manipulation_test.srv import *\n",
    "\n",
    "import tf\n",
    "from ros_numpy import numpify"
   ]
  },
  {
   "cell_type": "code",
   "execution_count": 2,
   "id": "9409a701",
   "metadata": {},
   "outputs": [],
   "source": [
    "rospy.init_node('example_node')"
   ]
  },
  {
   "cell_type": "code",
   "execution_count": 3,
   "id": "0cb049e2",
   "metadata": {},
   "outputs": [],
   "source": [
    "# find the table first\n",
    "rospy.wait_for_service('table_searcher/search_table')\n",
    "table_searcher = rospy.ServiceProxy('table_searcher/search_table', SearchTable)"
   ]
  },
  {
   "cell_type": "code",
   "execution_count": 4,
   "id": "f6ebf113",
   "metadata": {},
   "outputs": [],
   "source": [
    "table_info = table_searcher()"
   ]
  },
  {
   "cell_type": "code",
   "execution_count": 5,
   "id": "5915c852",
   "metadata": {},
   "outputs": [],
   "source": [
    "# detect obstacle on the table\n",
    "rospy.wait_for_service('table_searcher/segment_objects')\n",
    "object_searcher = rospy.ServiceProxy('table_searcher/segment_objects', SegmentObjects)"
   ]
  },
  {
   "cell_type": "code",
   "execution_count": 6,
   "id": "cff8b96d",
   "metadata": {},
   "outputs": [],
   "source": [
    "detected_objects = object_searcher()"
   ]
  },
  {
   "cell_type": "code",
   "execution_count": 7,
   "id": "8c64143a",
   "metadata": {},
   "outputs": [
    {
     "name": "stdout",
     "output_type": "stream",
     "text": [
      "(\"detected objects' number: \", 4)\n"
     ]
    }
   ],
   "source": [
    "print(\"detected objects' number: \", len(detected_objects.segmented_objects.objects))"
   ]
  },
  {
   "cell_type": "code",
   "execution_count": 8,
   "id": "8b6722a1",
   "metadata": {},
   "outputs": [],
   "source": [
    "# get camera transform from tf tree\n",
    "tfBuffer = tf2_ros.Buffer()\n",
    "listener = tf2_ros.TransformListener(tfBuffer)"
   ]
  },
  {
   "cell_type": "code",
   "execution_count": 9,
   "id": "04f6b9ca",
   "metadata": {},
   "outputs": [],
   "source": [
    "try:\n",
    "    camera_trans = tfBuffer.lookup_transform('base_link', 'head_camera_rgb_optical_frame', rospy.Time())\n",
    "except (tf2_ros.LookupException, tf2_ros.ConnectivityException, tf2_ros.ExtrapolationException):\n",
    "    print(\"tf error\")"
   ]
  },
  {
   "cell_type": "code",
   "execution_count": 10,
   "id": "8f9f4f75",
   "metadata": {},
   "outputs": [],
   "source": [
    "rospy.wait_for_service('grasp_predict')"
   ]
  },
  {
   "cell_type": "code",
   "execution_count": 11,
   "id": "d0442f57",
   "metadata": {},
   "outputs": [],
   "source": [
    "grasp_predictor = rospy.ServiceProxy('grasp_predict', Predict)\n",
    "try:\n",
    "    predicted_grasp_result = grasp_predictor(table_info.full_point_cloud, detected_objects.segmented_objects.objects[1].point_cloud, camera_trans)\n",
    "except rospy.ServiceException as e:\n",
    "    print(\"Service call failed: %s\"%e)"
   ]
  },
  {
   "cell_type": "code",
   "execution_count": 12,
   "id": "1b9e2d4a",
   "metadata": {},
   "outputs": [],
   "source": [
    "# prepare the client to visualize the predicted grasp poses\n",
    "rospy.wait_for_service('visualize_regrasp')"
   ]
  },
  {
   "cell_type": "code",
   "execution_count": 13,
   "id": "0add5a60",
   "metadata": {},
   "outputs": [],
   "source": [
    "import random\n",
    "import numpy as np\n",
    "from geometry_msgs.msg import PoseStamped\n",
    "\n",
    "def pose_to_vector(pose_stamped):\n",
    "    pos = pose_stamped.pose.position\n",
    "    quat = pose_stamped.pose.orientation\n",
    "\n",
    "    return np.array([pos.x, pos.y, pos.z, quat.x, quat.y, quat.z, quat.w])\n",
    "\n",
    "def euclidean_distance(v1, v2):\n",
    "    return np.linalg.norm(v1 - v2)\n",
    "\n",
    "def k_means_clustering(poses, k, max_iterations=100):\n",
    "    # Convert poses to vectors\n",
    "    pose_vectors = [pose_to_vector(pose) for pose in poses]\n",
    "\n",
    "    # Randomly initialize centroids\n",
    "    centroids = random.sample(pose_vectors, k)\n",
    "\n",
    "    for _ in range(max_iterations):\n",
    "        # Assign pose_vectors to nearest centroids\n",
    "        clusters_indices = [[] for _ in range(k)]\n",
    "        for i, pose_vector in enumerate(pose_vectors):\n",
    "            closest_centroid_index = np.argmin([euclidean_distance(pose_vector, centroid) for centroid in centroids])\n",
    "            clusters_indices[closest_centroid_index].append(i)\n",
    "\n",
    "        # Update centroids\n",
    "        new_centroids = [np.mean([pose_vectors[i] for i in cluster], axis=0) for cluster in clusters_indices]\n",
    "\n",
    "        # Check for convergence\n",
    "        if np.allclose(centroids, new_centroids):\n",
    "            break\n",
    "\n",
    "        centroids = new_centroids\n",
    "\n",
    "    # Create clusters of PoseStamped objects\n",
    "    clusters = [[poses[i] for i in cluster] for cluster in clusters_indices]\n",
    "\n",
    "    return clusters[0]"
   ]
  },
  {
   "cell_type": "code",
   "execution_count": 14,
   "id": "e00d8889",
   "metadata": {},
   "outputs": [],
   "source": [
    "grasp_visualizer = rospy.ServiceProxy('visualize_regrasp', VisualizeRegrasp)\n",
    "try:\n",
    "    clustered_grasp_poses = k_means_clustering(predicted_grasp_result.predicted_grasp_poses, 1)\n",
    "    grasp_visualizer(clustered_grasp_poses, [0.08 for _ in range(10)], [0 for _ in range(10)])\n",
    "except rospy.ServiceException as e:\n",
    "    print(\"Service call failed: %s\"%e)"
   ]
  },
  {
   "cell_type": "code",
   "execution_count": 19,
   "id": "430a629a",
   "metadata": {},
   "outputs": [],
   "source": [
    "import tf\n",
    "from ros_numpy import numpify"
   ]
  },
  {
   "cell_type": "code",
   "execution_count": 22,
   "id": "e1250848",
   "metadata": {},
   "outputs": [
    {
     "name": "stdout",
     "output_type": "stream",
     "text": [
      "[[ 0.31426255 -0.68896389 -0.65312159  0.74390885]\n",
      " [-0.36032155 -0.7230608   0.58936531  0.18598605]\n",
      " [-0.87829803  0.05011834 -0.47547947  1.12325208]\n",
      " [ 0.          0.          0.          1.        ]]\n"
     ]
    }
   ],
   "source": [
    "grasp_pose = numpify(clustered_grasp_poses[0].pose)\n",
    "pre_grasp_shift = np.array([[1,0,0,-0.1],[0,1,0,0],[0,0,1,0],[0,0,0,1]])\n",
    "pre_grasp_pose = np.dot(grasp_pose, pre_grasp_shift)\n",
    "print(pre_grasp_pose)"
   ]
  },
  {
   "cell_type": "code",
   "execution_count": 27,
   "id": "00357372",
   "metadata": {},
   "outputs": [],
   "source": [
    "import moveit_commander\n",
    "import moveit_msgs.msg\n",
    "import tf.transformations as tr\n",
    "from geometry_msgs.msg import Pose"
   ]
  },
  {
   "cell_type": "code",
   "execution_count": 18,
   "id": "e61b5735",
   "metadata": {},
   "outputs": [],
   "source": [
    "moveit_commander.roscpp_initialize(sys.argv)\n",
    "robot = moveit_commander.RobotCommander()\n",
    "scene = moveit_commander.PlanningSceneInterface()\n",
    "move_group = moveit_commander.MoveGroupCommander(\"arm\")"
   ]
  },
  {
   "cell_type": "code",
   "execution_count": 29,
   "id": "7118c0e8",
   "metadata": {},
   "outputs": [],
   "source": [
    "q = tr.quaternion_from_matrix(pre_grasp_pose)"
   ]
  },
  {
   "cell_type": "code",
   "execution_count": 31,
   "id": "b0c5e8e5",
   "metadata": {},
   "outputs": [],
   "source": [
    "pose_goal = Pose()\n",
    "pose_goal.orientation.x = q[0]\n",
    "pose_goal.orientation.y = q[1]\n",
    "pose_goal.orientation.z = q[2]\n",
    "pose_goal.orientation.w = q[3]\n",
    "pose_goal.position.x = pre_grasp_pose[0][3]\n",
    "pose_goal.position.y = pre_grasp_pose[1][3]\n",
    "pose_goal.position.z = pre_grasp_pose[2][3]\n",
    "move_group.set_pose_target(pose_goal)"
   ]
  },
  {
   "cell_type": "code",
   "execution_count": 37,
   "id": "a72e6b62",
   "metadata": {},
   "outputs": [],
   "source": [
    "p = move_group.go()"
   ]
  },
  {
   "cell_type": "code",
   "execution_count": null,
   "id": "f1deac27",
   "metadata": {},
   "outputs": [],
   "source": [
    "grasp_pose_goal = Pose()\n",
    "grasp_pose_goal.orientation.x = q[0]\n",
    "grasp_pose_goal.orientation.y = q[1]\n",
    "grasp_pose_goal.orientation.z = q[2]\n",
    "grasp_pose_goal.orientation.w = q[3]\n",
    "grasp_pose_goal.position.x = grasp_pose[0][3]\n",
    "grasp_pose_goal.position.y = grasp_pose[1][3]\n",
    "grasp_pose_goal.position.z = grasp_pose[2][3]"
   ]
  },
  {
   "cell_type": "code",
   "execution_count": null,
   "id": "eae29196",
   "metadata": {},
   "outputs": [],
   "source": [
    "move_group.compute_cartesian_path([grasp_pose_goal])"
   ]
  }
 ],
 "metadata": {
  "kernelspec": {
   "display_name": "Python 2",
   "language": "python",
   "name": "python2"
  },
  "language_info": {
   "codemirror_mode": {
    "name": "ipython",
    "version": 2
   },
   "file_extension": ".py",
   "mimetype": "text/x-python",
   "name": "python",
   "nbconvert_exporter": "python",
   "pygments_lexer": "ipython2",
   "version": "2.7.17"
  }
 },
 "nbformat": 4,
 "nbformat_minor": 5
}
