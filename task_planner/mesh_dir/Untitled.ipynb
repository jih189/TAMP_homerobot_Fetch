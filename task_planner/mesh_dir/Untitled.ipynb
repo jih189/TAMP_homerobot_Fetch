{
 "cells": [
  {
   "cell_type": "code",
   "execution_count": 4,
   "id": "a7ecd2da-784c-4a82-bf8e-5bc91d6e4452",
   "metadata": {},
   "outputs": [],
   "source": [
    "import numpy as np"
   ]
  },
  {
   "cell_type": "code",
   "execution_count": 6,
   "id": "570f9d86-cc39-40fc-ad80-58210baa1332",
   "metadata": {},
   "outputs": [
    {
     "name": "stdout",
     "output_type": "stream",
     "text": [
      "['arr_606', 'arr_753', 'arr_752', 'arr_698', 'arr_699', 'arr_757', 'arr_756', 'arr_755', 'arr_754', 'arr_692', 'arr_693', 'arr_690', 'arr_691', 'arr_696', 'arr_697', 'arr_694', 'arr_695', 'arr_195', 'arr_194', 'arr_197', 'arr_196', 'arr_191', 'arr_190', 'arr_193', 'arr_192', 'arr_786', 'arr_199', 'arr_198', 'arr_674', 'arr_675', 'arr_579', 'arr_578', 'arr_670', 'arr_671', 'arr_672', 'arr_673', 'arr_573', 'arr_572', 'arr_571', 'arr_570', 'arr_577', 'arr_576', 'arr_575', 'arr_574', 'arr_825', 'arr_824', 'arr_827', 'arr_492', 'arr_821', 'arr_820', 'arr_79', 'arr_78', 'arr_77', 'arr_76', 'arr_75', 'arr_74', 'arr_73', 'arr_72', 'arr_71', 'arr_70', 'arr_586', 'arr_587', 'arr_584', 'arr_585', 'arr_582', 'arr_583', 'arr_580', 'arr_581', 'arr_588', 'arr_589', 'arr_278', 'arr_279', 'arr_373', 'arr_372', 'arr_375', 'arr_374', 'arr_377', 'arr_376', 'arr_270', 'arr_271', 'arr_272', 'arr_273', 'arr_274', 'arr_275', 'arr_276', 'arr_277', 'arr_407', 'arr_406', 'arr_405', 'arr_404', 'arr_403', 'arr_402', 'arr_401', 'arr_400', 'arr_409', 'arr_408', 'arr_602', 'arr_782', 'arr_472', 'arr_473', 'arr_470', 'arr_471', 'arr_476', 'arr_477', 'arr_474', 'arr_475', 'arr_478', 'arr_479', 'arr_751', 'arr_783', 'arr_530', 'arr_750', 'arr_759', 'arr_758', 'arr_789', 'arr_526', 'arr_380', 'arr_381', 'arr_382', 'arr_383', 'arr_384', 'arr_385', 'arr_386', 'arr_387', 'arr_388', 'arr_389', 'arr_609', 'arr_716', 'arr_159', 'arr_158', 'arr_151', 'arr_150', 'arr_153', 'arr_152', 'arr_155', 'arr_154', 'arr_157', 'arr_156', 'arr_33', 'arr_32', 'arr_31', 'arr_30', 'arr_37', 'arr_36', 'arr_35', 'arr_34', 'arr_630', 'arr_528', 'arr_39', 'arr_38', 'arr_634', 'arr_635', 'arr_636', 'arr_529', 'arr_335', 'arr_334', 'arr_337', 'arr_336', 'arr_331', 'arr_330', 'arr_333', 'arr_332', 'arr_339', 'arr_338', 'arr_708', 'arr_709', 'arr_763', 'arr_704', 'arr_705', 'arr_706', 'arr_707', 'arr_700', 'arr_701', 'arr_702', 'arr_703', 'arr_524', 'arr_525', 'arr_449', 'arr_448', 'arr_520', 'arr_521', 'arr_522', 'arr_523', 'arr_443', 'arr_442', 'arr_441', 'arr_440', 'arr_447', 'arr_446', 'arr_445', 'arr_444', 'arr_46', 'arr_47', 'arr_44', 'arr_45', 'arr_42', 'arr_43', 'arr_40', 'arr_41', 'arr_48', 'arr_49', 'arr_539', 'arr_201', 'arr_200', 'arr_203', 'arr_202', 'arr_205', 'arr_204', 'arr_207', 'arr_206', 'arr_209', 'arr_208', 'arr_678', 'arr_679', 'arr_603', 'arr_720', 'arr_826', 'arr_784', 'arr_823', 'arr_785', 'arr_822', 'arr_629', 'arr_628', 'arr_780', 'arr_781', 'arr_119', 'arr_118', 'arr_115', 'arr_114', 'arr_117', 'arr_116', 'arr_111', 'arr_110', 'arr_113', 'arr_112', 'arr_788', 'arr_627', 'arr_626', 'arr_740', 'arr_741', 'arr_742', 'arr_743', 'arr_744', 'arr_745', 'arr_746', 'arr_747', 'arr_748', 'arr_749', 'arr_182', 'arr_183', 'arr_180', 'arr_181', 'arr_186', 'arr_187', 'arr_184', 'arr_185', 'arr_188', 'arr_189', 'arr_568', 'arr_569', 'arr_643', 'arr_642', 'arr_645', 'arr_644', 'arr_647', 'arr_646', 'arr_560', 'arr_561', 'arr_562', 'arr_563', 'arr_564', 'arr_565', 'arr_566', 'arr_567', 'arr_830', 'arr_831', 'arr_245', 'arr_244', 'arr_247', 'arr_246', 'arr_241', 'arr_240', 'arr_243', 'arr_242', 'arr_249', 'arr_248', 'arr_712', 'arr_368', 'arr_369', 'arr_366', 'arr_367', 'arr_364', 'arr_365', 'arr_362', 'arr_363', 'arr_360', 'arr_361', 'arr_414', 'arr_415', 'arr_416', 'arr_417', 'arr_410', 'arr_411', 'arr_412', 'arr_413', 'arr_418', 'arr_419', 'arr_379', 'arr_378', 'arr_489', 'arr_488', 'arr_487', 'arr_486', 'arr_485', 'arr_484', 'arr_483', 'arr_482', 'arr_481', 'arr_480', 'arr_791', 'arr_91', 'arr_309', 'arr_787', 'arr_790', 'arr_726', 'arr_510', 'arr_719', 'arr_727', 'arr_718', 'arr_724', 'arr_725', 'arr_99', 'arr_2', 'arr_98', 'arr_689', 'arr_715', 'arr_688', 'arr_146', 'arr_147', 'arr_144', 'arr_145', 'arr_142', 'arr_143', 'arr_140', 'arr_141', 'arr_713', 'arr_721', 'arr_722', 'arr_148', 'arr_149', 'arr_685', 'arr_711', 'arr_684', 'arr_710', 'arr_556', 'arr_681', 'arr_723', 'arr_680', 'arr_728', 'arr_729', 'arr_322', 'arr_323', 'arr_320', 'arr_321', 'arr_326', 'arr_327', 'arr_324', 'arr_325', 'arr_281', 'arr_280', 'arr_328', 'arr_282', 'arr_285', 'arr_284', 'arr_287', 'arr_286', 'arr_739', 'arr_738', 'arr_731', 'arr_730', 'arr_733', 'arr_732', 'arr_735', 'arr_734', 'arr_737', 'arr_736', 'arr_458', 'arr_459', 'arr_513', 'arr_512', 'arr_515', 'arr_514', 'arr_517', 'arr_516', 'arr_450', 'arr_451', 'arr_452', 'arr_453', 'arr_454', 'arr_455', 'arr_456', 'arr_457', 'arr_55', 'arr_54', 'arr_57', 'arr_56', 'arr_51', 'arr_50', 'arr_53', 'arr_52', 'arr_538', 'arr_59', 'arr_58', 'arr_809', 'arr_808', 'arr_803', 'arr_802', 'arr_801', 'arr_800', 'arr_807', 'arr_806', 'arr_805', 'arr_804', 'arr_357', 'arr_356', 'arr_355', 'arr_354', 'arr_353', 'arr_352', 'arr_218', 'arr_219', 'arr_216', 'arr_217', 'arr_214', 'arr_215', 'arr_212', 'arr_213', 'arr_210', 'arr_211', 'arr_770', 'arr_664', 'arr_661', 'arr_660', 'arr_798', 'arr_669', 'arr_641', 'arr_668', 'arr_108', 'arr_109', 'arr_102', 'arr_103', 'arr_100', 'arr_101', 'arr_106', 'arr_107', 'arr_104', 'arr_105', 'arr_640', 'arr_551', 'arr_794', 'arr_546', 'arr_792', 'arr_542', 'arr_779', 'arr_778', 'arr_543', 'arr_775', 'arr_774', 'arr_777', 'arr_776', 'arr_771', 'arr_540', 'arr_773', 'arr_772', 'arr_541', 'arr_179', 'arr_178', 'arr_177', 'arr_176', 'arr_175', 'arr_174', 'arr_173', 'arr_172', 'arr_171', 'arr_170', 'arr_797', 'arr_796', 'arr_795', 'arr_655', 'arr_793', 'arr_544', 'arr_658', 'arr_659', 'arr_656', 'arr_657', 'arr_654', 'arr_545', 'arr_652', 'arr_653', 'arr_650', 'arr_651', 'arr_19', 'arr_18', 'arr_799', 'arr_714', 'arr_11', 'arr_10', 'arr_13', 'arr_12', 'arr_15', 'arr_14', 'arr_17', 'arr_16', 'arr_252', 'arr_253', 'arr_250', 'arr_251', 'arr_256', 'arr_257', 'arr_254', 'arr_255', 'arr_258', 'arr_259', 'arr_82', 'arr_83', 'arr_319', 'arr_318', 'arr_86', 'arr_87', 'arr_84', 'arr_85', 'arr_313', 'arr_312', 'arr_311', 'arr_310', 'arr_317', 'arr_316', 'arr_315', 'arr_314', 'arr_421', 'arr_420', 'arr_423', 'arr_422', 'arr_425', 'arr_424', 'arr_427', 'arr_426', 'arr_429', 'arr_428', 'arr_717', 'arr_599', 'arr_598', 'arr_346', 'arr_227', 'arr_226', 'arr_225', 'arr_224', 'arr_223', 'arr_222', 'arr_221', 'arr_220', 'arr_494', 'arr_495', 'arr_496', 'arr_497', 'arr_490', 'arr_491', 'arr_229', 'arr_228', 'arr_614', 'arr_649', 'arr_615', 'arr_591', 'arr_590', 'arr_593', 'arr_592', 'arr_648', 'arr_348', 'arr_549', 'arr_349', 'arr_597', 'arr_596', 'arr_610', 'arr_133', 'arr_132', 'arr_131', 'arr_130', 'arr_137', 'arr_136', 'arr_135', 'arr_134', 'arr_139', 'arr_138', 'arr_80', 'arr_611', 'arr_81', 'arr_595', 'arr_289', 'arr_288', 'arr_616', 'arr_296', 'arr_297', 'arr_294', 'arr_295', 'arr_292', 'arr_293', 'arr_290', 'arr_291', 'arr_88', 'arr_298', 'arr_299', 'arr_1', 'arr_0', 'arr_3', 'arr_89', 'arr_5', 'arr_4', 'arr_7', 'arr_6', 'arr_9', 'arr_8', 'arr_687', 'arr_686', 'arr_527', 'arr_617', 'arr_683', 'arr_682', 'arr_283', 'arr_667', 'arr_666', 'arr_665', 'arr_329', 'arr_663', 'arr_662', 'arr_508', 'arr_509', 'arr_506', 'arr_507', 'arr_504', 'arr_505', 'arr_502', 'arr_503', 'arr_500', 'arr_501', 'arr_60', 'arr_61', 'arr_62', 'arr_63', 'arr_64', 'arr_65', 'arr_66', 'arr_67', 'arr_68', 'arr_69', 'arr_818', 'arr_819', 'arr_810', 'arr_811', 'arr_812', 'arr_813', 'arr_814', 'arr_815', 'arr_816', 'arr_817', 'arr_344', 'arr_345', 'arr_269', 'arr_268', 'arr_340', 'arr_341', 'arr_342', 'arr_343', 'arr_263', 'arr_262', 'arr_261', 'arr_260', 'arr_267', 'arr_266', 'arr_265', 'arr_264', 'arr_829', 'arr_612', 'arr_594', 'arr_828', 'arr_465', 'arr_464', 'arr_467', 'arr_466', 'arr_461', 'arr_460', 'arr_463', 'arr_462', 'arr_547', 'arr_469', 'arr_468', 'arr_511', 'arr_618', 'arr_370', 'arr_498', 'arr_619', 'arr_499', 'arr_519', 'arr_518', 'arr_393', 'arr_392', 'arr_391', 'arr_390', 'arr_397', 'arr_396', 'arr_395', 'arr_394', 'arr_399', 'arr_398', 'arr_768', 'arr_769', 'arr_613', 'arr_762', 'arr_371', 'arr_760', 'arr_761', 'arr_766', 'arr_767', 'arr_764', 'arr_765', 'arr_168', 'arr_169', 'arr_164', 'arr_165', 'arr_166', 'arr_167', 'arr_160', 'arr_161', 'arr_162', 'arr_163', 'arr_24', 'arr_25', 'arr_26', 'arr_27', 'arr_20', 'arr_21', 'arr_22', 'arr_23', 'arr_623', 'arr_622', 'arr_621', 'arr_620', 'arr_28', 'arr_29', 'arr_625', 'arr_624', 'arr_555', 'arr_677', 'arr_550', 'arr_554', 'arr_557', 'arr_308', 'arr_90', 'arr_93', 'arr_92', 'arr_95', 'arr_94', 'arr_97', 'arr_96', 'arr_300', 'arr_301', 'arr_302', 'arr_303', 'arr_304', 'arr_305', 'arr_306', 'arr_307', 'arr_537', 'arr_536', 'arr_535', 'arr_534', 'arr_533', 'arr_532', 'arr_438', 'arr_439', 'arr_436', 'arr_437', 'arr_434', 'arr_435', 'arr_432', 'arr_433', 'arr_430', 'arr_431', 'arr_552', 'arr_553', 'arr_559', 'arr_558', 'arr_234', 'arr_235', 'arr_236', 'arr_237', 'arr_230', 'arr_231', 'arr_232', 'arr_233', 'arr_548', 'arr_493', 'arr_238', 'arr_239', 'arr_638', 'arr_639', 'arr_605', 'arr_604', 'arr_607', 'arr_347', 'arr_631', 'arr_531', 'arr_601', 'arr_632', 'arr_600', 'arr_633', 'arr_351', 'arr_350', 'arr_676', 'arr_637', 'arr_120', 'arr_121', 'arr_122', 'arr_123', 'arr_124', 'arr_125', 'arr_126', 'arr_127', 'arr_128', 'arr_129', 'arr_608', 'arr_359', 'arr_358']\n",
      "[[-0.02530819 -0.99935931 -0.02530819  0.00115694]\n",
      " [ 0.70665371 -0.03579118  0.70665371 -0.014423  ]\n",
      " [-0.70710677  0.          0.70710677  0.06000813]\n",
      " [ 0.          0.          0.          1.        ]]\n"
     ]
    }
   ],
   "source": [
    "b = np.load('cup.npz')\n",
    "\n",
    "print(b.files)\n",
    "\n",
    "array1 = b['arr_606']\n",
    "print(array1)"
   ]
  },
  {
   "cell_type": "code",
   "execution_count": null,
   "id": "c8b7bd7a-eb14-4148-bfdc-758f4a096fe6",
   "metadata": {},
   "outputs": [],
   "source": [
    "for file in b.files:\n",
    "    print(file)\n",
    "    print(b[file])"
   ]
  }
 ],
 "metadata": {
  "kernelspec": {
   "display_name": "Python 2",
   "language": "python",
   "name": "python2"
  },
  "language_info": {
   "codemirror_mode": {
    "name": "ipython",
    "version": 2
   },
   "file_extension": ".py",
   "mimetype": "text/x-python",
   "name": "python",
   "nbconvert_exporter": "python",
   "pygments_lexer": "ipython2",
   "version": "2.7.17"
  }
 },
 "nbformat": 4,
 "nbformat_minor": 5
}
