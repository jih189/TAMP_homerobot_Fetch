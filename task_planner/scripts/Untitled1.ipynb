{
 "cells": [
  {
   "cell_type": "code",
   "execution_count": 6,
   "id": "c32777b7",
   "metadata": {},
   "outputs": [],
   "source": [
    "from sklearn import mixture\n",
    "import numpy as np\n",
    "from jiaming_GMM import GMM\n",
    "import matplotlib.pyplot as plt"
   ]
  },
  {
   "cell_type": "code",
   "execution_count": 13,
   "id": "8cacb67c",
   "metadata": {},
   "outputs": [
    {
     "name": "stdout",
     "output_type": "stream",
     "text": [
      "('Loaded 131 distributions ', '../computed_gmms_dir/gmm/')\n"
     ]
    }
   ],
   "source": [
    "gmm_dir_path = \"../computed_gmms_dir/gmm/\"\n",
    "gmm = GMM()\n",
    "gmm.load_distributions(gmm_dir_path)"
   ]
  },
  {
   "cell_type": "code",
   "execution_count": 15,
   "id": "9c7ae75b",
   "metadata": {},
   "outputs": [
    {
     "data": {
      "image/png": "[encoded data removed]",
      "text/plain": [
       "<matplotlib.figure.Figure at 0x7f77612b4a90>"
      ]
     },
     "metadata": {
      "needs_background": "light"
     },
     "output_type": "display_data"
    }
   ],
   "source": [
    "plt.hist(1.0 / (gmm._sklearn_gmm.weights_ + 1e-8))\n",
    "plt.show()"
   ]
  },
  {
   "cell_type": "code",
   "execution_count": null,
   "id": "76f4f117",
   "metadata": {},
   "outputs": [],
   "source": []
  }
 ],
 "metadata": {
  "kernelspec": {
   "display_name": "Python 2",
   "language": "python",
   "name": "python2"
  },
  "language_info": {
   "codemirror_mode": {
    "name": "ipython",
    "version": 2
   },
   "file_extension": ".py",
   "mimetype": "text/x-python",
   "name": "python",
   "nbconvert_exporter": "python",
   "pygments_lexer": "ipython2",
   "version": "2.7.17"
  }
 },
 "nbformat": 4,
 "nbformat_minor": 5
}
