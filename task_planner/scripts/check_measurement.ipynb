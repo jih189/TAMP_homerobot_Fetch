{
 "cells": [
  {
   "cell_type": "code",
   "execution_count": 1,
   "id": "900665d6",
   "metadata": {},
   "outputs": [],
   "source": [
    "import json"
   ]
  },
  {
   "cell_type": "code",
   "execution_count": 6,
   "id": "42172f19",
   "metadata": {},
   "outputs": [],
   "source": [
    "file_path = \"../result.json\"\n",
    "\n",
    "result_data = []\n",
    "\n",
    "# Open the file and load JSON data\n",
    "with open(file_path, 'r') as json_file:\n",
    "    for line in json_file:\n",
    "        result_data.append(json.loads(line))"
   ]
  },
  {
   "cell_type": "code",
   "execution_count": 11,
   "id": "dd724b44",
   "metadata": {},
   "outputs": [
    {
     "name": "stdout",
     "output_type": "stream",
     "text": [
      "mtg Task planner - number of success  18\n",
      "mtg with GMM Task Planner - number of success  28\n",
      "mtg with Atlas Task Planner - number of success  30\n"
     ]
    }
   ],
   "source": [
    "number_of_mtg = 0\n",
    "number_of_mtg_success = 0\n",
    "motion_planning_time_mtg = 0\n",
    "number_of_mtg_gmm = 0\n",
    "number_of_mtg_gmm_success = 0\n",
    "motion_planning_time_mtg_gmm = 0\n",
    "number_of_mtg_atlas = 0\n",
    "number_of_mtg_atlas_success = 0\n",
    "motion_planning_time_altas = 0\n",
    "for d in result_data:\n",
    "    if d['planner_name'] == 'MTGTaskPlanner':\n",
    "        number_of_mtg += 1\n",
    "        if d['success'] == \"true\":\n",
    "            number_of_mtg_success += 1\n",
    "            motion_planning_time_mtg += d['motion_planning_time']\n",
    "    elif d['planner_name'] == 'MTGTaskPlannerWithGMM':\n",
    "        number_of_mtg_gmm += 1\n",
    "        if d['success'] == \"true\":\n",
    "            number_of_mtg_gmm_success += 1 \n",
    "            motion_planning_time_mtg_gmm += d['motion_planning_time']\n",
    "    elif d['planner_name'] == 'MTGTaskPlannerWithAtlas':\n",
    "        number_of_mtg_atlas += 1\n",
    "        if d['success'] == \"true\":\n",
    "            number_of_mtg_atlas_success += 1\n",
    "            motion_planning_time_altas += d['motion_planning_time']\n",
    "print \"mtg Task planner - number of success \", number_of_mtg_success\n",
    "# print \"motion planning time \", motion_planning_time_mtg / number_of_mtg_success\n",
    "print \"mtg with GMM Task Planner - number of success \", number_of_mtg_gmm_success\n",
    "# print \"motion planning time \", motion_planning_time_mtg_gmm / number_of_mtg_gmm_success\n",
    "print \"mtg with Atlas Task Planner - number of success \", number_of_mtg_atlas_success\n",
    "# print \"motion planning time \", motion_planning_time_altas / number_of_mtg_atlas_success"
   ]
  },
  {
   "cell_type": "code",
   "execution_count": null,
   "id": "a6069278",
   "metadata": {},
   "outputs": [],
   "source": []
  }
 ],
 "metadata": {
  "kernelspec": {
   "display_name": "Python 2",
   "language": "python",
   "name": "python2"
  },
  "language_info": {
   "codemirror_mode": {
    "name": "ipython",
    "version": 2
   },
   "file_extension": ".py",
   "mimetype": "text/x-python",
   "name": "python",
   "nbconvert_exporter": "python",
   "pygments_lexer": "ipython2",
   "version": "2.7.17"
  }
 },
 "nbformat": 4,
 "nbformat_minor": 5
}
