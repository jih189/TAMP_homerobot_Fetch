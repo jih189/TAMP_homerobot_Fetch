{
 "cells": [
  {
   "cell_type": "code",
   "execution_count": null,
   "id": "72e2df74",
   "metadata": {},
   "outputs": [],
   "source": [
    "from foliated_problem import FoliatedProblem, BaseFoliation, FoliatedIntersection, BaseIntersection\n",
    "from geometry_msgs.msg import Pose, Point, Quaternion\n",
    "import random"
   ]
  },
  {
   "cell_type": "code",
   "execution_count": null,
   "id": "bf73b3a9",
   "metadata": {},
   "outputs": [],
   "source": [
    "# need to define user's intersection\n",
    "class NumberIntersection(BaseIntersection):\n",
    "    def get(self):\n",
    "        return self.intersection_motion\n",
    "    def inverse(self):\n",
    "        return self.intersection_motion[::-1]"
   ]
  },
  {
   "cell_type": "code",
   "execution_count": null,
   "id": "1b18c0a4",
   "metadata": {},
   "outputs": [],
   "source": [
    "intersection_a = NumberIntersection([1.1,2.2,3.3])\n",
    "print intersection_a.inverse()\n",
    "print intersection_a.get()"
   ]
  },
  {
   "cell_type": "code",
   "execution_count": null,
   "id": "c4925a79",
   "metadata": {},
   "outputs": [],
   "source": [
    "# foliation_grasp = Foliation('grasp_period', None, 'cup', None, None, [1,2,3])\n",
    "# foliation_nongrasp = Foliation('nongrasp_period', None, 'cup', None, None, [1,2,3])\n",
    "# foliation_check = Foliation('check_period', None, 'cup', None, None, 'ha')\n",
    "foliation_grasp = BaseFoliation('grasp_period', \n",
    "                                {'object_constraint': None, \n",
    "                                 'object_name': 'cup',\n",
    "                                 'obstacle_mesh': None,\n",
    "                                 'obstacle_pose': None}, \n",
    "                                [1,2,3])\n",
    "\n",
    "foliation_grasp = BaseFoliation('nongrasp_period', \n",
    "                                {'object_constraint': None, \n",
    "                                 'object_name': 'cup',\n",
    "                                 'obstacle_mesh': None,\n",
    "                                 'obstacle_pose': None}, \n",
    "                                [1,2,3])\n"
   ]
  },
  {
   "cell_type": "code",
   "execution_count": null,
   "id": "cfa1a26a",
   "metadata": {},
   "outputs": [],
   "source": [
    "def foliated_sampling_function(co_parameters_from_foliation1, co_parameters_from_foliation2):\n",
    "    \n",
    "    random_co_paramemter_from_foliation_1 = random.choice(co_parameters_from_foliation1)\n",
    "    random_co_paramemter_from_foliation_2 = random.choice(co_parameters_from_foliation2)\n",
    "    return NumberIntersection([random_co_paramemter_from_foliation_1, random_co_paramemter_from_foliation_2])"
   ]
  },
  {
   "cell_type": "code",
   "execution_count": null,
   "id": "e323e95b",
   "metadata": {},
   "outputs": [],
   "source": [
    "foliated_intersection = FoliatedIntersection(foliation_grasp, foliation_nongrasp, foliated_sampling_function)"
   ]
  },
  {
   "cell_type": "code",
   "execution_count": null,
   "id": "6dda5644",
   "metadata": {},
   "outputs": [],
   "source": [
    "x = foliated_intersection.sample()\n",
    "print x.get()"
   ]
  },
  {
   "cell_type": "code",
   "execution_count": null,
   "id": "26106999",
   "metadata": {},
   "outputs": [],
   "source": []
  }
 ],
 "metadata": {
  "kernelspec": {
   "display_name": "Python 2",
   "language": "python",
   "name": "python2"
  },
  "language_info": {
   "codemirror_mode": {
    "name": "ipython",
    "version": 2
   },
   "file_extension": ".py",
   "mimetype": "text/x-python",
   "name": "python",
   "nbconvert_exporter": "python",
   "pygments_lexer": "ipython2",
   "version": "2.7.17"
  }
 },
 "nbformat": 4,
 "nbformat_minor": 5
}
