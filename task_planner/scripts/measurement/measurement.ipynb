{
 "cells": [
  {
   "cell_type": "code",
   "execution_count": 5,
   "metadata": {},
   "outputs": [
    {
     "data": {
      "application/vnd.jupyter.widget-view+json": {
       "model_id": "f5d35aa6d0104bfabb610256bfb0d009",
       "version_major": 2,
       "version_minor": 0
      },
      "text/plain": [
       "Dropdown(options=(b'open_door_g_100_i_1434:1712011660.62_abcfe481-d910-4686-b179-f22e18f62fe3', b'slide_cup_g_…"
      ]
     },
     "metadata": {},
     "output_type": "display_data"
    },
    {
     "data": {
      "application/vnd.jupyter.widget-view+json": {
       "model_id": "dc494c53551346b3a585035122f942ea",
       "version_major": 2,
       "version_minor": 0
      },
      "text/plain": [
       "Button(description='Load Data', style=ButtonStyle())"
      ]
     },
     "metadata": {},
     "output_type": "display_data"
    },
    {
     "data": {
      "application/vnd.jupyter.widget-view+json": {
       "model_id": "ac3e53e69c6d480ea4c51c2fff9fa5dd",
       "version_major": 2,
       "version_minor": 0
      },
      "text/plain": [
       "Output()"
      ]
     },
     "metadata": {},
     "output_type": "display_data"
    }
   ],
   "source": [
    "import json\n",
    "import numpy as np\n",
    "import pandas as pd\n",
    "import redis\n",
    "from IPython.display import display, HTML, clear_output\n",
    "from ipywidgets import Dropdown, Button, Output\n",
    "\n",
    "# Set pandas display option\n",
    "pd.set_option('display.float_format', lambda x: '%.4f' % x)\n",
    "\n",
    "# Redis connection info\n",
    "redis_host = \"rss.redis.cache.windows.net\"\n",
    "redis_port = 6379\n",
    "redis_password = \"AQouyZ83AaEt7lBhgpLCAhBLip3ygGHfZAzCaM3IaqI=\"\n",
    "redis_db = 0\n",
    "redis_retry_on_timeout = True\n",
    "redis_socket_timeout = 5\n",
    "\n",
    "planner_names = [\n",
    "    \"MTGTaskPlanner\",\n",
    "    \"ALEFTaskPlanner\",\n",
    "    \"MTGTaskPlannerWithGMM\",\n",
    "    \"DynamicMTGTaskPlannerWithGMM\",\n",
    "    \"DynamicMTGTaskPlannerWithGMM_V2\",\n",
    "    \"DynamicMTGTaskPlannerWithGMM_25.0\",\n",
    "    \"DynamicMTGTaskPlannerWithGMM_50.0\",\n",
    "    \"DynamicMTGTaskPlannerWithGMM_75.0\",\n",
    "    \"DynamicMTGTaskPlannerWithGMM_100.0\",\n",
    "    \"MTGTaskPlannerWithAtlas\",\n",
    "    \"DynamicMTGPlannerWithAtlas\",\n",
    "    \"DynamicMTGPlannerWithAtlas_V2\",\n",
    "    \"DynamicMTGPlannerWithAtlas_25.0\",\n",
    "    \"DynamicMTGPlannerWithAtlas_50.0\",\n",
    "    \"DynamicMTGPlannerWithAtlas_75.0\",\n",
    "    \"DynamicMTGTaskPlannerWithAtlas_100.0\",\n",
    "\n",
    "]\n",
    "\n",
    "# Connect to Redis\n",
    "r = redis.StrictRedis(\n",
    "    host=redis_host,\n",
    "    port=redis_port,\n",
    "    password=redis_password,\n",
    "    db=redis_db,\n",
    "    socket_timeout=redis_socket_timeout,\n",
    "    retry_on_timeout=redis_retry_on_timeout\n",
    ")\n",
    "\n",
    "# Retrieve and display keys for user selection\n",
    "keys = r.keys(pattern='*')\n",
    "dropdown = Dropdown(options=keys)\n",
    "button = Button(description=\"Load Data\")\n",
    "output = Output()\n",
    "\n",
    "display(dropdown, button, output)\n",
    "\n",
    "def load_data(b):\n",
    "    with output:\n",
    "        clear_output()\n",
    "        key = dropdown.value\n",
    "        raw_data = r.lrange(key, 0, -1)\n",
    "        result_data = [json.loads(data) for data in raw_data]\n",
    "\n",
    "        planner_stats = {\n",
    "                            planner_name: {\n",
    "                                'num' : 0, \n",
    "                                'num_success' : [], \n",
    "                                'motion_planning_time' : [],\n",
    "                                'task_planning_time' : [],\n",
    "                                'updating_time' : [],\n",
    "                                'solution_length' : [],\n",
    "                                'num_attempts' : [],\n",
    "                                'total_planning_time' : [],\n",
    "                                'set_start_and_goal_time' : [],\n",
    "                            } \n",
    "\n",
    "                        for planner_name in planner_names\n",
    "                        }\n",
    "\n",
    "        for d in result_data:\n",
    "            if d['planner_name'] in planner_stats:\n",
    "                dic = planner_stats[d['planner_name']]\n",
    "                dic['num'] += 1\n",
    "                dic['num_success'].append(d['success'] == \"true\")\n",
    "                if d['success'] == \"true\":\n",
    "                    dic['motion_planning_time'].append(d['motion_planning_time'])\n",
    "                    dic['task_planning_time'].append(d['task_planning_time'])\n",
    "                    dic['total_planning_time'].append(d['total_planning_time'])\n",
    "                    dic['updating_time'].append(d['updating_time'])\n",
    "                    dic['solution_length'].append(d['solution_length'])\n",
    "                    dic['num_attempts'].append(d['num_attempts'])\n",
    "                    dic['set_start_and_goal_time'].append(d['set_start_and_goal_time'])\n",
    "\n",
    "        output_dict = []\n",
    "        for planner_name in planner_names:\n",
    "            stats = planner_stats[planner_name]\n",
    "\n",
    "            current_planner_eval_dict = {}\n",
    "            current_planner_eval_dict[\"Planner Name\"] = planner_name\n",
    "            current_planner_eval_dict[\"Total Number of Tasks\"] = len(stats['num_success'])\n",
    "            current_planner_eval_dict[\"Success Rate\"] = np.mean(stats['num_success']) * 100.0\n",
    "            current_planner_eval_dict[\"Mean Task Planning Time\"] = np.mean(np.array(stats['task_planning_time']) / (np.array(stats['num_attempts'])) )\n",
    "            current_planner_eval_dict[\"Mean Motion Planning Time\"] = np.mean(np.array(stats['motion_planning_time']) / (np.array(stats['num_attempts'])) )\n",
    "            current_planner_eval_dict[\"Total Planning Time\"] = np.mean(np.array(stats['total_planning_time']) )\n",
    "            current_planner_eval_dict[\"Set Start and Goal Time\"] = np.mean(np.array(stats['set_start_and_goal_time']) )\n",
    "            current_planner_eval_dict[\"Mean Update time\"] = np.mean(np.array(stats['updating_time']) / (np.array(stats['num_attempts'])) )\n",
    "            current_planner_eval_dict[\"Mean solution length\"] = np.mean(np.array(stats['solution_length']) / (np.array(stats['num_attempts'])) )\n",
    "            current_planner_eval_dict[\"Mean number of attempts\"] = np.mean((np.array(stats['num_attempts'])) )\n",
    "            output_dict.append(current_planner_eval_dict)\n",
    "        df = pd.DataFrame(output_dict).set_index('Planner Name')\n",
    "\n",
    "        display(df)\n",
    "        \n",
    "        \n",
    "\n",
    "button.on_click(load_data)\n"
   ]
  }
 ],
 "metadata": {
  "kernelspec": {
   "display_name": "Python 3",
   "language": "python",
   "name": "python3"
  },
  "language_info": {
   "codemirror_mode": {
    "name": "ipython",
    "version": 3
   },
   "file_extension": ".py",
   "mimetype": "text/x-python",
   "name": "python",
   "nbconvert_exporter": "python",
   "pygments_lexer": "ipython3",
   "version": "3.8.16"
  }
 },
 "nbformat": 4,
 "nbformat_minor": 2
}
