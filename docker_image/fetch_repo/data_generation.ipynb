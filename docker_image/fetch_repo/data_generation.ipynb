{
 "cells": [
  {
   "cell_type": "code",
   "execution_count": 1,
   "id": "5037109c",
   "metadata": {},
   "outputs": [],
   "source": [
    "import sys\n",
    "sys.path.append('/root/zmqRemoteApi/clients/python')\n",
    "from zmqRemoteApi import RemoteAPIClient\n",
    "from collision_detection_helper import COLLISION_IGNORE_LIST\n",
    "import rospy\n",
    "\n",
    "# for debugs\n",
    "import time\n",
    "import math\n",
    "from fetch_robot import FetchRobot"
   ]
  },
  {
   "cell_type": "code",
   "execution_count": 2,
   "id": "42d1d162",
   "metadata": {},
   "outputs": [],
   "source": [
    "rospy.init_node('Coppeliasim_env_example')"
   ]
  },
  {
   "cell_type": "code",
   "execution_count": 3,
   "id": "21e1a6ea",
   "metadata": {},
   "outputs": [],
   "source": [
    "fetch_robot = FetchRobot()"
   ]
  },
  {
   "cell_type": "code",
   "execution_count": 5,
   "id": "43893d78",
   "metadata": {},
   "outputs": [],
   "source": [
    "fetch_robot.resetScene()"
   ]
  },
  {
   "cell_type": "code",
   "execution_count": null,
   "id": "18dbae98",
   "metadata": {},
   "outputs": [],
   "source": []
  }
 ],
 "metadata": {
  "kernelspec": {
   "display_name": "Python 3",
   "language": "python",
   "name": "python3"
  },
  "language_info": {
   "codemirror_mode": {
    "name": "ipython",
    "version": 3
   },
   "file_extension": ".py",
   "mimetype": "text/x-python",
   "name": "python",
   "nbconvert_exporter": "python",
   "pygments_lexer": "ipython3",
   "version": "3.6.9"
  }
 },
 "nbformat": 4,
 "nbformat_minor": 5
}
