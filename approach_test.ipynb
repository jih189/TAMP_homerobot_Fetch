{
 "cells": [
  {
   "cell_type": "code",
   "execution_count": null,
   "id": "0ecd27e1",
   "metadata": {},
   "outputs": [],
   "source": [
    "# approach the object\n",
    "import rospy\n",
    "from geometry_msgs.msg import Twist\n",
    "import actionlib\n",
    "from control_msgs.msg import FollowJointTrajectoryAction, FollowJointTrajectoryGoal\n",
    "from trajectory_msgs.msg import JointTrajectory, JointTrajectoryPoint\n",
    "from rail_segmentation.srv import *\n",
    "from rail_manipulation_msgs.srv import *\n",
    "import tf2_ros\n",
    "import numpy as np\n",
    "from sensor_msgs.msg import PointCloud2\n",
    "import sensor_msgs.point_cloud2 as pc2\n",
    "from ros_numpy import numpify, msgify"
   ]
  },
  {
   "cell_type": "code",
   "execution_count": null,
   "id": "494d00ae",
   "metadata": {},
   "outputs": [],
   "source": [
    "def convert_pointcloud2_to_pc(pointcloud2_msg):\n",
    "    pc_data = pc2.read_points(pointcloud2_msg, skip_nans=True, field_names=(\"x\", \"y\", \"z\"))\n",
    "    pc_list = []\n",
    "\n",
    "    for p in pc_data:\n",
    "        pc_list.append([p[0], p[1], p[2]])\n",
    "\n",
    "    pc_array = np.array(pc_list, dtype=np.float32)\n",
    "\n",
    "    return pc_array"
   ]
  },
  {
   "cell_type": "code",
   "execution_count": null,
   "id": "ef4832c8",
   "metadata": {},
   "outputs": [],
   "source": [
    "rospy.init_node('command_sender', anonymous=True)\n",
    "base_pub = rospy.Publisher('/cmd_vel', Twist, queue_size=10)\n",
    "rate = rospy.Rate(10)  # Adjust the frequency as per your requirement\n",
    "\n",
    "def move_base(base_pub_, linear_vel, angular_vel):\n",
    "    cmd_vel = Twist()\n",
    "    cmd_vel.linear.x = linear_vel\n",
    "    cmd_vel.angular.z = angular_vel\n",
    "    base_pub_.publish(cmd_vel)"
   ]
  },
  {
   "cell_type": "code",
   "execution_count": null,
   "id": "e77fd10b",
   "metadata": {},
   "outputs": [],
   "source": [
    "torso_controller_client = actionlib.SimpleActionClient('/torso_controller/follow_joint_trajectory',\n",
    "                                          FollowJointTrajectoryAction)\n",
    "torso_controller_client.wait_for_server()\n",
    "# control the head\n",
    "head_controller_client = actionlib.SimpleActionClient(\n",
    "            \"/head_controller/follow_joint_trajectory\",\n",
    "            FollowJointTrajectoryAction,\n",
    "        )\n",
    "head_controller_client.wait_for_server()\n",
    "# detect the object\n",
    "# get camera transform from tf tree\n",
    "tfBuffer = tf2_ros.Buffer()\n",
    "listener = tf2_ros.TransformListener(tfBuffer)"
   ]
  },
  {
   "cell_type": "code",
   "execution_count": null,
   "id": "3acd4ec4",
   "metadata": {},
   "outputs": [],
   "source": [
    "# move the head toward the object\n",
    "def look_at_object(head_controller_client_, tfBuffer_, runtime = 1.0):\n",
    "    try:\n",
    "        obj_in_base_trans = tfBuffer_.lookup_transform('base_link', 'can', rospy.Time())\n",
    "    except (tf2_ros.LookupException, tf2_ros.ConnectivityException, tf2_ros.ExtrapolationException):\n",
    "        print(\"tf error\")\n",
    "        \n",
    "    try:\n",
    "        head_pan_in_base_trans = tfBuffer_.lookup_transform('base_link', 'head_pan_link', rospy.Time())\n",
    "    except (tf2_ros.LookupException, tf2_ros.ConnectivityException, tf2_ros.ExtrapolationException):\n",
    "        print(\"tf error\")\n",
    "    \n",
    "    object_in_head = np.array([obj_in_base_trans.transform.translation.x - head_pan_in_base_trans.transform.translation.x,\n",
    "                               obj_in_base_trans.transform.translation.y - head_pan_in_base_trans.transform.translation.y,\n",
    "                               obj_in_base_trans.transform.translation.z - head_pan_in_base_trans.transform.translation.z])\n",
    "\n",
    "    msg = FollowJointTrajectoryGoal()\n",
    "    msg.trajectory.header.frame_id = ''\n",
    "    msg.trajectory.joint_names = ['head_pan_joint', 'head_tilt_joint']\n",
    "\n",
    "    point = JointTrajectoryPoint()\n",
    "    point.positions = [np.arctan2(object_in_head[1] , object_in_head[0]),\n",
    "                       -np.arctan2(object_in_head[2] , object_in_head[0])]\n",
    "    point.time_from_start = rospy.Duration(runtime)\n",
    "\n",
    "    msg.trajectory.header.stamp = rospy.Time.now()\n",
    "    msg.trajectory.points = [point]\n",
    "\n",
    "    head_controller_client_.send_goal_and_wait(msg, execute_timeout=rospy.Duration(runtime))\n",
    "\n",
    "# # print hand_pan_error"
   ]
  },
  {
   "cell_type": "code",
   "execution_count": null,
   "id": "ca5866d0",
   "metadata": {},
   "outputs": [],
   "source": [
    "# lift up the head\n",
    "look_at_object(head_controller_client, tfBuffer)"
   ]
  },
  {
   "cell_type": "code",
   "execution_count": null,
   "id": "d3a5b6bf",
   "metadata": {},
   "outputs": [],
   "source": [
    "# find the table first\n",
    "rospy.wait_for_service('table_searcher/search_table')\n",
    "table_searcher = rospy.ServiceProxy('table_searcher/search_table', SearchTable)"
   ]
  },
  {
   "cell_type": "code",
   "execution_count": null,
   "id": "a98f3447",
   "metadata": {},
   "outputs": [],
   "source": [
    "table_info = table_searcher()"
   ]
  },
  {
   "cell_type": "code",
   "execution_count": null,
   "id": "d7e10708",
   "metadata": {},
   "outputs": [],
   "source": [
    "# adjust the torso height based on the table.\n",
    "msg = FollowJointTrajectoryGoal()\n",
    "msg.trajectory.header.frame_id = ''\n",
    "msg.trajectory.joint_names = ['torso_lift_joint']\n",
    "\n",
    "point = JointTrajectoryPoint()\n",
    "point.positions = [table_info.center.z - 0.5]\n",
    "point.time_from_start = rospy.Duration(1.0)\n",
    "\n",
    "msg.trajectory.header.stamp = rospy.Time.now()\n",
    "msg.trajectory.points = []\n",
    "msg.trajectory.points.append(point)\n",
    "\n",
    "torso_controller_client.send_goal_and_wait(\n",
    "    msg, execute_timeout=rospy.Duration(2.0)\n",
    ")\n",
    "\n",
    "look_at_object(head_controller_client, tfBuffer)\n"
   ]
  },
  {
   "cell_type": "code",
   "execution_count": null,
   "id": "3cb89ada",
   "metadata": {},
   "outputs": [],
   "source": [
    "# first, rotate the robot forward to the object.\n",
    "can_trans = tfBuffer.lookup_transform('base_link', 'can', rospy.Time())\n",
    "rot_error = np.arctan2(can_trans.transform.translation.y, can_trans.transform.translation.x)\n",
    "while abs(rot_error) > 0.02:\n",
    "    move_base(base_pub, 0.0, rot_error)\n",
    "    try:\n",
    "        can_trans = tfBuffer.lookup_transform('base_link', 'can', rospy.Time())\n",
    "    except (tf2_ros.LookupException, tf2_ros.ConnectivityException, tf2_ros.ExtrapolationException):\n",
    "        print(\"tf error\")\n",
    "    rot_error = np.arctan2(can_trans.transform.translation.y, can_trans.transform.translation.x)\n",
    "\n",
    "look_at_object(head_controller_client, tfBuffer)"
   ]
  },
  {
   "cell_type": "code",
   "execution_count": null,
   "id": "91292666",
   "metadata": {},
   "outputs": [],
   "source": [
    "def min_dist_from_pointcloud_to_robot(camera_trans, pc):\n",
    "    camera_pose = numpify(camera_trans.transform)\n",
    "    current_pc = convert_pointcloud2_to_pc(pc)\n",
    "    homogeneous_point_cloud = np.hstack([current_pc, np.ones((current_pc.shape[0], 1))])\n",
    "    transformed_point_cloud = np.dot(camera_pose, homogeneous_point_cloud.T).T\n",
    "    transformed_point_cloud = transformed_point_cloud[:, :3]\n",
    "    filtered_current_pc = transformed_point_cloud[transformed_point_cloud[:,-1] > 0.05]\n",
    "    return np.linalg.norm(filtered_current_pc, axis=1, keepdims=True).min()"
   ]
  },
  {
   "cell_type": "code",
   "execution_count": null,
   "id": "711fe1b9",
   "metadata": {},
   "outputs": [],
   "source": [
    "# look down for detect table is comming.\n",
    "msg = FollowJointTrajectoryGoal()\n",
    "msg.trajectory.header.frame_id = ''\n",
    "msg.trajectory.joint_names = ['head_pan_joint', 'head_tilt_joint']\n",
    "\n",
    "point = JointTrajectoryPoint()\n",
    "point.positions = [0.0, 0.88]\n",
    "point.time_from_start = rospy.Duration(1.0)\n",
    "\n",
    "msg.trajectory.header.stamp = rospy.Time.now()\n",
    "msg.trajectory.points = [point]\n",
    "\n",
    "head_controller_client.send_goal_and_wait(msg, execute_timeout=rospy.Duration(1.0))\n"
   ]
  },
  {
   "cell_type": "code",
   "execution_count": null,
   "id": "10d67f11",
   "metadata": {},
   "outputs": [],
   "source": [
    "try:\n",
    "    camera_trans = tfBuffer.lookup_transform('base_link', 'head_camera_rgb_optical_frame', rospy.Time())\n",
    "except (tf2_ros.LookupException, tf2_ros.ConnectivityException, tf2_ros.ExtrapolationException):\n",
    "    print(\"tf error\")\n",
    "    \n",
    "data = rospy.wait_for_message(\"/head_camera/depth_downsample/points\", PointCloud2)\n",
    "dist_to_table = min_dist_from_pointcloud_to_robot(camera_trans, data)\n",
    "while dist_to_table > 0.8:\n",
    "    move_base(base_pub, dist_to_table * 0.5, 0.0)\n",
    "    data = rospy.wait_for_message(\"/head_camera/depth_downsample/points\", PointCloud2)\n",
    "    dist_to_table = min_dist_from_pointcloud_to_robot(camera_trans, data)\n",
    "    print dist_to_table\n",
    "    \n",
    "look_at_object(head_controller_client, tfBuffer)"
   ]
  },
  {
   "cell_type": "code",
   "execution_count": null,
   "id": "e8becea3",
   "metadata": {},
   "outputs": [],
   "source": []
  }
 ],
 "metadata": {
  "kernelspec": {
   "display_name": "Python 2",
   "language": "python",
   "name": "python2"
  },
  "language_info": {
   "codemirror_mode": {
    "name": "ipython",
    "version": 2
   },
   "file_extension": ".py",
   "mimetype": "text/x-python",
   "name": "python",
   "nbconvert_exporter": "python",
   "pygments_lexer": "ipython2",
   "version": "2.7.17"
  }
 },
 "nbformat": 4,
 "nbformat_minor": 5
}
