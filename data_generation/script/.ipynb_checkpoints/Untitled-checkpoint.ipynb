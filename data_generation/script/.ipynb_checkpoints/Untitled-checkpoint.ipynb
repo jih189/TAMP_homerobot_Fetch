{
 "cells": [
  {
   "cell_type": "code",
   "execution_count": 1,
   "id": "6c079889",
   "metadata": {},
   "outputs": [],
   "source": [
    "from trajectory_generation import TrajectoryGenerator\n",
    "from trimesh_util import create_axis_arrow, create_axis_arrows, sample_points_on_mesh\n",
    "import sys\n",
    "import rospy\n",
    "import moveit_commander\n",
    "import random\n",
    "\n",
    "import numpy as np\n",
    "import pickle\n",
    "from os import path as osp\n",
    "import os\n",
    "import shutil\n",
    "import trimesh"
   ]
  },
  {
   "cell_type": "code",
   "execution_count": 2,
   "id": "13fd32cc",
   "metadata": {},
   "outputs": [],
   "source": [
    "rospy.init_node('data_trajectory_generation')\n",
    "moveit_commander.roscpp_initialize(sys.argv)\n",
    "trajectory_generator = TrajectoryGenerator(moveit_commander)"
   ]
  },
  {
   "cell_type": "code",
   "execution_count": 5,
   "id": "92ae585a",
   "metadata": {},
   "outputs": [],
   "source": [
    "meshlist = trajectory_generator.generate_random_mesh(8)\n",
    "pointcloud = trajectory_generator.setObstaclesInScene(meshlist)\n",
    "trajectory_generator.show_point_cloud(pointcloud)"
   ]
  },
  {
   "cell_type": "code",
<<<<<<< HEAD:fetch_ros/fetch_moveit_config/scripts/Untitled.ipynb
   "execution_count": 4,
   "id": "dae078a3",
   "metadata": {},
   "outputs": [
    {
     "name": "stdout",
     "output_type": "stream",
     "text": [
      "307200\n"
     ]
    }
   ],
   "source": [
    "print len(pointcloud)"
   ]
  },
  {
   "cell_type": "code",
   "execution_count": 5,
   "id": "686f48ca",
   "metadata": {},
   "outputs": [
    {
     "name": "stdout",
     "output_type": "stream",
     "text": [
      "[[ 10.          -3.01757087   5.05288808]\n",
      " [  0.1         -0.03017571   1.04052888]\n",
      " [  0.1         -0.03017571   1.04052888]\n",
      " [  0.1         -0.03017571   1.04052888]\n",
      " [  0.1         -0.03017571   1.04052888]\n",
      " [  0.1         -0.03017571   1.04052888]\n",
      " [  0.1         -0.03017571   1.04052888]\n",
      " [  0.1         -0.03017571   1.04052888]\n",
      " [  0.1         -0.03017571   1.04052888]\n",
      " [  0.1         -0.03017571   1.04052888]]\n"
     ]
    }
   ],
   "source": [
    "print pointcloud[:10]"
   ]
  },
  {
   "cell_type": "code",
   "execution_count": null,
   "id": "3ce8f4df",
=======
   "execution_count": 6,
   "id": "101af0bd",
>>>>>>> aa4277600e883f670b9a29832f3347ffc7022e07:data_generation/script/.ipynb_checkpoints/Untitled-checkpoint.ipynb
   "metadata": {},
   "outputs": [],
   "source": [
    "result, sampledTrajectory = trajectory_generator.generateValidTrajectory()"
   ]
  },
  {
   "cell_type": "code",
   "execution_count": null,
   "id": "8368ec79",
   "metadata": {},
   "outputs": [],
   "source": [
    "trajectory_generator.cleanPlanningScene()"
   ]
<<<<<<< HEAD:fetch_ros/fetch_moveit_config/scripts/Untitled.ipynb
  },
  {
   "cell_type": "code",
   "execution_count": null,
   "id": "1b387af8",
   "metadata": {},
   "outputs": [],
   "source": []
=======
>>>>>>> aa4277600e883f670b9a29832f3347ffc7022e07:data_generation/script/.ipynb_checkpoints/Untitled-checkpoint.ipynb
  }
 ],
 "metadata": {
  "kernelspec": {
   "display_name": "Python 2",
   "language": "python",
   "name": "python2"
  },
  "language_info": {
   "codemirror_mode": {
    "name": "ipython",
    "version": 2
   },
   "file_extension": ".py",
   "mimetype": "text/x-python",
   "name": "python",
   "nbconvert_exporter": "python",
   "pygments_lexer": "ipython2",
   "version": "2.7.17"
  }
 },
 "nbformat": 4,
 "nbformat_minor": 5
}
