{
 "cells": [
  {
   "cell_type": "code",
   "execution_count": 1,
   "id": "ffe3566a",
   "metadata": {},
   "outputs": [],
   "source": [
    "from trajectory_generation import TrajectoryGenerator\n",
    "import sys\n",
    "import rospy\n",
    "import moveit_commander\n",
    "import random\n",
    "from moveit_msgs.srv import GetStateValidity, GetStateValidityRequest\n",
    "from moveit_msgs.msg import RobotState\n",
    "from sensor_msgs.msg import JointState\n",
    "\n",
    "import numpy as np\n",
    "import pickle\n",
    "from os import path as osp\n",
    "import os\n",
    "import shutil"
   ]
  },
  {
   "cell_type": "code",
   "execution_count": 2,
   "id": "d03fcb71",
   "metadata": {},
   "outputs": [],
   "source": [
    "rospy.init_node('data_trajectory_generation')\n",
    "moveit_commander.roscpp_initialize(sys.argv)\n",
    "trajectory_generator = TrajectoryGenerator(moveit_commander)"
   ]
  },
  {
   "cell_type": "code",
   "execution_count": 3,
   "id": "5d62bdbe",
   "metadata": {},
   "outputs": [],
   "source": [
    "sampled_trajectory = np.array(trajectory_generator.generateValidTrajectory())"
   ]
  },
  {
   "cell_type": "code",
   "execution_count": 4,
   "id": "f8dcedb0",
   "metadata": {},
   "outputs": [],
   "source": [
    "trajectory_generator.visualizeTrajectory(sampled_trajectory)"
   ]
  },
  {
   "cell_type": "code",
   "execution_count": null,
   "id": "8e2e3491",
   "metadata": {},
   "outputs": [],
   "source": []
  },
  {
   "cell_type": "code",
   "execution_count": null,
   "id": "3594df26",
   "metadata": {},
   "outputs": [],
   "source": []
  },
  {
   "cell_type": "code",
   "execution_count": null,
   "id": "aba0ceec",
   "metadata": {},
   "outputs": [],
   "source": []
  },
  {
   "cell_type": "code",
   "execution_count": null,
   "id": "3613c83b",
   "metadata": {},
   "outputs": [],
   "source": []
  }
 ],
 "metadata": {
  "kernelspec": {
   "display_name": "Python 2",
   "language": "python",
   "name": "python2"
  },
  "language_info": {
   "codemirror_mode": {
    "name": "ipython",
    "version": 2
   },
   "file_extension": ".py",
   "mimetype": "text/x-python",
   "name": "python",
   "nbconvert_exporter": "python",
   "pygments_lexer": "ipython2",
   "version": "2.7.17"
  }
 },
 "nbformat": 4,
 "nbformat_minor": 5
}
