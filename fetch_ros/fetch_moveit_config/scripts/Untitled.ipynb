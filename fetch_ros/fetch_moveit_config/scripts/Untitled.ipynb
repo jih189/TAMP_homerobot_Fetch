{
 "cells": [
  {
   "cell_type": "code",
   "execution_count": 1,
   "id": "f69ef0fb",
   "metadata": {},
   "outputs": [],
   "source": [
    "from trajectory_generation import TrajectoryGenerator\n",
    "import sys\n",
    "import rospy\n",
    "import moveit_commander\n",
    "import random\n",
    "from moveit_msgs.srv import GetStateValidity, GetStateValidityRequest\n",
    "from moveit_msgs.msg import RobotState\n",
    "from sensor_msgs.msg import JointState\n",
    "\n",
    "import numpy as np\n",
    "import pickle\n",
    "from os import path as osp\n",
    "import os\n",
    "import shutil"
   ]
  },
  {
   "cell_type": "code",
   "execution_count": 2,
   "id": "f7dccb61",
   "metadata": {},
   "outputs": [],
   "source": [
    "rospy.init_node('data_trajectory_generation')\n",
    "moveit_commander.roscpp_initialize(sys.argv)\n",
    "trajectory_generator = TrajectoryGenerator(moveit_commander)"
   ]
  },
  {
   "cell_type": "code",
   "execution_count": 3,
   "id": "ddd32406",
   "metadata": {},
   "outputs": [],
   "source": [
    "sampled_trajectory = np.array(trajectory_generator.generateValidTrajectory())"
   ]
  },
  {
   "cell_type": "code",
   "execution_count": 7,
   "id": "61301874",
   "metadata": {},
   "outputs": [],
   "source": [
    "trajectory_generator.visualizeTrajectory(sampled_trajectory)"
   ]
  },
  {
   "cell_type": "code",
   "execution_count": null,
   "id": "b8348391",
   "metadata": {},
   "outputs": [],
   "source": []
  },
  {
   "cell_type": "code",
   "execution_count": null,
   "id": "cea23ace",
   "metadata": {},
   "outputs": [],
   "source": []
  },
  {
   "cell_type": "code",
   "execution_count": null,
   "id": "bba0a81b",
   "metadata": {},
   "outputs": [],
   "source": []
  },
  {
   "cell_type": "code",
   "execution_count": null,
   "id": "0788b988",
   "metadata": {},
   "outputs": [],
   "source": []
  }
 ],
 "metadata": {
  "kernelspec": {
   "display_name": "Python 2",
   "language": "python",
   "name": "python2"
  },
  "language_info": {
   "codemirror_mode": {
    "name": "ipython",
    "version": 2
   },
   "file_extension": ".py",
   "mimetype": "text/x-python",
   "name": "python",
   "nbconvert_exporter": "python",
   "pygments_lexer": "ipython2",
   "version": "2.7.17"
  }
 },
 "nbformat": 4,
 "nbformat_minor": 5
}
