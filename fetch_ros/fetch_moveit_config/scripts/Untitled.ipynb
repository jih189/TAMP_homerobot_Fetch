{
 "cells": [
  {
   "cell_type": "code",
   "execution_count": 1,
   "id": "f69ef0fb",
   "metadata": {},
   "outputs": [],
   "source": [
    "from trajectory_generation import TrajectoryGenerator\n",
    "from trimesh_util import create_axis_arrow, create_axis_arrows, sample_points_on_mesh\n",
    "import sys\n",
    "import rospy\n",
    "import moveit_commander\n",
    "import random\n",
    "from moveit_msgs.srv import GetStateValidity, GetStateValidityRequest\n",
    "from moveit_msgs.msg import RobotState\n",
    "from sensor_msgs.msg import JointState\n",
    "\n",
    "import numpy as np\n",
    "import pickle\n",
    "from os import path as osp\n",
    "import os\n",
    "import shutil\n",
    "import trimesh"
   ]
  },
  {
   "cell_type": "code",
   "execution_count": 2,
   "id": "f7dccb61",
   "metadata": {},
   "outputs": [],
   "source": [
    "rospy.init_node('data_trajectory_generation')\n",
    "moveit_commander.roscpp_initialize(sys.argv)\n",
    "trajectory_generator = TrajectoryGenerator(moveit_commander)"
   ]
  },
  {
   "cell_type": "code",
   "execution_count": 3,
   "id": "d9bf294b",
   "metadata": {},
   "outputs": [],
   "source": [
    "meshlist = trajectory_generator.generate_random_mesh(5)\n",
    "pointcloud = trajectory_generator.setObstaclesInScene(meshlist)\n",
    "trajectory_generator.show_point_cloud(pointcloud)"
   ]
  },
  {
   "cell_type": "code",
   "execution_count": 4,
   "id": "dae078a3",
   "metadata": {},
   "outputs": [
    {
     "name": "stdout",
     "output_type": "stream",
     "text": [
      "307200\n"
     ]
    }
   ],
   "source": [
    "print len(pointcloud)"
   ]
  },
  {
   "cell_type": "code",
   "execution_count": 5,
   "id": "686f48ca",
   "metadata": {},
   "outputs": [
    {
     "name": "stdout",
     "output_type": "stream",
     "text": [
      "[[ 10.          -3.01757087   5.05288808]\n",
      " [  0.1         -0.03017571   1.04052888]\n",
      " [  0.1         -0.03017571   1.04052888]\n",
      " [  0.1         -0.03017571   1.04052888]\n",
      " [  0.1         -0.03017571   1.04052888]\n",
      " [  0.1         -0.03017571   1.04052888]\n",
      " [  0.1         -0.03017571   1.04052888]\n",
      " [  0.1         -0.03017571   1.04052888]\n",
      " [  0.1         -0.03017571   1.04052888]\n",
      " [  0.1         -0.03017571   1.04052888]]\n"
     ]
    }
   ],
   "source": [
    "print pointcloud[:10]"
   ]
  },
  {
   "cell_type": "code",
   "execution_count": null,
   "id": "3ce8f4df",
   "metadata": {},
   "outputs": [],
   "source": [
    "result, sampledTrajectory = trajectory_generator.generateValidTrajectory()"
   ]
  },
  {
   "cell_type": "code",
   "execution_count": null,
   "id": "85fa3340",
   "metadata": {},
   "outputs": [],
   "source": [
    "trajectory_generator.cleanPlanningScene()"
   ]
  },
  {
   "cell_type": "code",
   "execution_count": null,
   "id": "1b387af8",
   "metadata": {},
   "outputs": [],
   "source": []
  }
 ],
 "metadata": {
  "kernelspec": {
   "display_name": "Python 2",
   "language": "python",
   "name": "python2"
  },
  "language_info": {
   "codemirror_mode": {
    "name": "ipython",
    "version": 2
   },
   "file_extension": ".py",
   "mimetype": "text/x-python",
   "name": "python",
   "nbconvert_exporter": "python",
   "pygments_lexer": "ipython2",
   "version": "2.7.17"
  }
 },
 "nbformat": 4,
 "nbformat_minor": 5
}
