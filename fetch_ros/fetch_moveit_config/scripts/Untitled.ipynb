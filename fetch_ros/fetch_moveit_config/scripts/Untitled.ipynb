{
 "cells": [
  {
   "cell_type": "code",
   "execution_count": 2,
   "id": "f69ef0fb",
   "metadata": {},
   "outputs": [],
   "source": [
    "from trajectory_generation import TrajectoryGenerator\n",
    "from trimesh_util import create_axis_arrow, create_axis_arrows, sample_points_on_mesh\n",
    "import sys\n",
    "import rospy\n",
    "import moveit_commander\n",
    "import random\n",
    "from moveit_msgs.srv import GetStateValidity, GetStateValidityRequest\n",
    "from moveit_msgs.msg import RobotState\n",
    "from sensor_msgs.msg import JointState\n",
    "\n",
    "import numpy as np\n",
    "import pickle\n",
    "from os import path as osp\n",
    "import os\n",
    "import shutil\n",
    "import trimesh"
   ]
  },
  {
   "cell_type": "code",
   "execution_count": 3,
   "id": "f7dccb61",
   "metadata": {},
   "outputs": [],
   "source": [
    "rospy.init_node('data_trajectory_generation')\n",
    "moveit_commander.roscpp_initialize(sys.argv)\n",
    "trajectory_generator = TrajectoryGenerator(moveit_commander)"
   ]
  },
  {
   "cell_type": "code",
   "execution_count": 4,
   "id": "dd3aaadc",
   "metadata": {},
   "outputs": [],
   "source": [
    "meshlist = trajectory_generator.generate_random_mesh(5)\n",
    "pointcloud = trajectory_generator.setObstaclesInScene(meshlist)\n",
    "trajectory_generator.show_point_cloud(pointcloud)"
   ]
  },
  {
   "cell_type": "code",
   "execution_count": 5,
   "id": "ffc49882",
   "metadata": {},
   "outputs": [],
   "source": [
    "result, sampledTrajectory = trajectory_generator.generateValidTrajectory()"
   ]
  },
  {
   "cell_type": "code",
   "execution_count": 6,
   "id": "512669f6",
   "metadata": {},
   "outputs": [],
   "source": [
    "trajectory_generator.cleanPlanningScene()"
   ]
  },
  {
   "cell_type": "code",
   "execution_count": 1,
   "id": "c7722821",
   "metadata": {},
   "outputs": [
    {
     "ename": "ImportError",
     "evalue": "No module named pyrender",
     "output_type": "error",
     "traceback": [
      "\u001b[0;31m---------------------------------------------------------------------------\u001b[0m",
      "\u001b[0;31mImportError\u001b[0m                               Traceback (most recent call last)",
      "\u001b[0;32m<ipython-input-1-363f8556915f>\u001b[0m in \u001b[0;36m<module>\u001b[0;34m()\u001b[0m\n\u001b[1;32m      1\u001b[0m \u001b[0;32mimport\u001b[0m \u001b[0mtrimesh\u001b[0m\u001b[0;34m\u001b[0m\u001b[0m\n\u001b[1;32m      2\u001b[0m \u001b[0;32mimport\u001b[0m \u001b[0mnumpy\u001b[0m \u001b[0;32mas\u001b[0m \u001b[0mnp\u001b[0m\u001b[0;34m\u001b[0m\u001b[0m\n\u001b[0;32m----> 3\u001b[0;31m \u001b[0;32mimport\u001b[0m \u001b[0mpyrender\u001b[0m\u001b[0;34m\u001b[0m\u001b[0m\n\u001b[0m\u001b[1;32m      4\u001b[0m \u001b[0;34m\u001b[0m\u001b[0m\n\u001b[1;32m      5\u001b[0m \u001b[0;32mdef\u001b[0m \u001b[0mget_visible_point_cloud\u001b[0m\u001b[0;34m(\u001b[0m\u001b[0mmesh\u001b[0m\u001b[0;34m,\u001b[0m \u001b[0mcamera_pose\u001b[0m\u001b[0;34m,\u001b[0m \u001b[0mimage_size\u001b[0m\u001b[0;34m=\u001b[0m\u001b[0;34m(\u001b[0m\u001b[0;36m640\u001b[0m\u001b[0;34m,\u001b[0m \u001b[0;36m480\u001b[0m\u001b[0;34m)\u001b[0m\u001b[0;34m,\u001b[0m \u001b[0mfov\u001b[0m\u001b[0;34m=\u001b[0m\u001b[0;36m60.0\u001b[0m\u001b[0;34m)\u001b[0m\u001b[0;34m:\u001b[0m\u001b[0;34m\u001b[0m\u001b[0m\n",
      "\u001b[0;31mImportError\u001b[0m: No module named pyrender"
     ]
    }
   ],
   "source": [
    "import trimesh\n",
    "import numpy as np\n",
    "import pyrender\n",
    "\n",
    "# Define a function to create camera poses around the mesh\n",
    "def create_camera_poses(num_poses, radius=3.0):\n",
    "    angles = np.linspace(0, 2 * np.pi, num_poses, endpoint=False)\n",
    "    camera_poses = []\n",
    "    for angle in angles:\n",
    "        translation = np.array([\n",
    "            radius * np.cos(angle),\n",
    "            radius * np.sin(angle),\n",
    "            1.0\n",
    "        ])\n",
    "        rotation = np.array([\n",
    "            [np.cos(angle), -np.sin(angle), 0],\n",
    "            [np.sin(angle), np.cos(angle), 0],\n",
    "            [0, 0, 1]\n",
    "        ])\n",
    "        camera_pose = np.eye(4)\n",
    "        camera_pose[:3, :3] = rotation.T\n",
    "        camera_pose[:3, 3] = translation\n",
    "        camera_poses.append(camera_pose)\n",
    "    return camera_poses\n",
    "\n",
    "# Load or create a mesh\n",
    "mesh = trimesh.creation.box()\n",
    "\n",
    "# Create multiple camera poses around the mesh\n",
    "num_cameras = 4\n",
    "camera_poses = create_camera_poses(num_cameras)\n",
    "\n",
    "# Generate visible point clouds from each camera's perspective\n",
    "point_clouds = []\n",
    "for camera_pose in camera_poses:\n",
    "    visible_point_cloud = get_visible_point_cloud(mesh, camera_pose)\n",
    "    point_clouds.append(visible_point_cloud)\n",
    "\n",
    "# Combine the point clouds\n",
    "combined_point_cloud = np.vstack(point_clouds)\n",
    "\n",
    "print(\"Combined point cloud shape:\", combined_point_cloud.shape)"
   ]
  },
  {
   "cell_type": "code",
   "execution_count": null,
   "id": "ffeb3fb3",
   "metadata": {},
   "outputs": [],
   "source": []
  }
 ],
 "metadata": {
  "kernelspec": {
   "display_name": "Python 2",
   "language": "python",
   "name": "python2"
  },
  "language_info": {
   "codemirror_mode": {
    "name": "ipython",
    "version": 2
   },
   "file_extension": ".py",
   "mimetype": "text/x-python",
   "name": "python",
   "nbconvert_exporter": "python",
   "pygments_lexer": "ipython2",
   "version": "2.7.17"
  }
 },
 "nbformat": 4,
 "nbformat_minor": 5
}
