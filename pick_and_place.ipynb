{
 "cells": [
  {
   "cell_type": "code",
   "execution_count": null,
   "id": "afe6ed39",
   "metadata": {},
   "outputs": [],
   "source": [
    "import rospy\n",
    "import tf2_ros\n",
    "from ros_tensorflow_msgs.srv import *\n",
    "from rail_segmentation.srv import *\n",
    "from rail_manipulation_msgs.srv import *\n",
    "from geometry_msgs.msg import TransformStamped, Pose\n",
    "from manipulation_test.srv import *\n",
    "import numpy as np\n",
    "from ros_numpy import numpify, msgify\n",
    "import tf\n",
    "import sys\n",
    "import moveit_commander\n",
    "import moveit_msgs.msg\n",
    "from moveit_msgs.msg import RobotState\n",
    "from sensor_msgs.msg import JointState\n",
    "from sensor_msgs import point_cloud2\n",
    "import random\n",
    "from moveit_msgs.msg import AttachedCollisionObject\n",
    "from moveit_msgs.msg import CollisionObject\n",
    "from shape_msgs.msg import SolidPrimitive"
   ]
  },
  {
   "cell_type": "code",
   "execution_count": null,
   "id": "083b81fe",
   "metadata": {},
   "outputs": [],
   "source": [
    "rospy.init_node('pick_and_place_node')"
   ]
  },
  {
   "cell_type": "code",
   "execution_count": null,
   "id": "00a11140",
   "metadata": {},
   "outputs": [],
   "source": [
    "# find the table first\n",
    "rospy.wait_for_service('table_searcher/search_table')\n",
    "table_searcher = rospy.ServiceProxy('table_searcher/search_table', SearchTable)\n"
   ]
  },
  {
   "cell_type": "code",
   "execution_count": null,
   "id": "3dd3df9b",
   "metadata": {},
   "outputs": [],
   "source": [
    "table_info = table_searcher()"
   ]
  },
  {
   "cell_type": "code",
   "execution_count": null,
   "id": "a6bcbfce",
   "metadata": {},
   "outputs": [],
   "source": [
    "# detect obstacle on the table\n",
    "rospy.wait_for_service('table_searcher/segment_objects')\n",
    "object_searcher = rospy.ServiceProxy('table_searcher/segment_objects', SegmentObjects)"
   ]
  },
  {
   "cell_type": "code",
   "execution_count": null,
   "id": "48415c91",
   "metadata": {},
   "outputs": [],
   "source": [
    "detected_objects = object_searcher()"
   ]
  },
  {
   "cell_type": "code",
   "execution_count": null,
   "id": "5d0804d6",
   "metadata": {},
   "outputs": [],
   "source": [
    "print(\"detected objects' number: \", len(detected_objects.segmented_objects.objects))"
   ]
  },
  {
   "cell_type": "code",
   "execution_count": null,
   "id": "89214275",
   "metadata": {},
   "outputs": [],
   "source": [
    "# get camera transform from tf tree\n",
    "tfBuffer = tf2_ros.Buffer()\n",
    "listener = tf2_ros.TransformListener(tfBuffer)"
   ]
  },
  {
   "cell_type": "code",
   "execution_count": null,
   "id": "b4d6635a",
   "metadata": {},
   "outputs": [],
   "source": [
    "try:\n",
    "    camera_trans = tfBuffer.lookup_transform('base_link', 'head_camera_rgb_optical_frame', rospy.Time())\n",
    "except (tf2_ros.LookupException, tf2_ros.ConnectivityException, tf2_ros.ExtrapolationException):\n",
    "    print(\"tf error\")"
   ]
  },
  {
   "cell_type": "code",
   "execution_count": null,
   "id": "a26060d8",
   "metadata": {},
   "outputs": [],
   "source": [
    "rospy.wait_for_service('grasp_predict')"
   ]
  },
  {
   "cell_type": "code",
   "execution_count": null,
   "id": "2d99a22b",
   "metadata": {},
   "outputs": [],
   "source": [
    "grasp_predictor = rospy.ServiceProxy('grasp_predict', Predict)\n",
    "try:\n",
    "    predicted_grasp_result = grasp_predictor(table_info.full_point_cloud, detected_objects.segmented_objects.objects[0].point_cloud, camera_trans)\n",
    "except rospy.ServiceException as e:\n",
    "    print(\"Service call failed: %s\"%e)"
   ]
  },
  {
   "cell_type": "code",
   "execution_count": null,
   "id": "1fe2e2ff",
   "metadata": {},
   "outputs": [],
   "source": [
    "moveit_commander.roscpp_initialize(sys.argv)\n",
    "move_group = moveit_commander.MoveGroupCommander(\"arm\") \n",
    "scene = moveit_commander.PlanningSceneInterface()"
   ]
  },
  {
   "cell_type": "code",
   "execution_count": null,
   "id": "ec253107",
   "metadata": {},
   "outputs": [],
   "source": [
    "table_info = table_searcher()\n",
    "# add table into the planning scene\n",
    "table_pose = geometry_msgs.msg.PoseStamped()\n",
    "table_pose.header.frame_id = \"base_link\"\n",
    "table_pose.pose.orientation.x = table_info.orientation.x\n",
    "table_pose.pose.orientation.y = table_info.orientation.y\n",
    "table_pose.pose.orientation.z = table_info.orientation.z\n",
    "table_pose.pose.orientation.w = table_info.orientation.w\n",
    "table_pose.pose.position.x = table_info.center.x\n",
    "table_pose.pose.position.y = table_info.center.y\n",
    "table_pose.pose.position.z = table_info.center.z / 2\n",
    "table_name = \"table\"\n",
    "scene.add_box(table_name, table_pose, size=(table_info.width, table_info.depth, table_info.center.z))"
   ]
  },
  {
   "cell_type": "code",
   "execution_count": null,
   "id": "4224c437",
   "metadata": {},
   "outputs": [],
   "source": [
    "grasp_shift = np.array([[1,0,0,0.05],[0,1,0,0],[0,0,1,0],[0,0,0,1]])\n",
    "pre_grasp_shift = np.array([[1,0,0,-0.1],[0,1,0,0],[0,0,1,0],[0,0,0,1]])\n",
    "pick_shift = np.array([[1,0,0,0],[0,1,0,0],[0,0,1,0.05],[0,0,0,1]])\n",
    "\n",
    "for i in range(len(predicted_grasp_result.predicted_grasp_poses)):\n",
    "    move_group.set_start_state_to_current_state()\n",
    "    \n",
    "    # generate grasp pose\n",
    "    grasp_pose = numpify(predicted_grasp_result.predicted_grasp_poses[i].pose).dot(grasp_shift)\n",
    "\n",
    "    # calculate the pre-grasp pose\n",
    "    pre_grasp_pose = grasp_pose.dot(pre_grasp_shift)\n",
    "    \n",
    "    # calculate the pick-up pose\n",
    "    pick_up_pose = pick_shift.dot(grasp_pose)\n",
    "\n",
    "    trans = tf.transformations.translation_from_matrix(pre_grasp_pose).tolist()\n",
    "    quat = tf.transformations.quaternion_from_matrix(pre_grasp_pose).tolist()\n",
    "\n",
    "    move_group.clear_pose_targets()\n",
    "    move_group.set_pose_target(trans + quat)\n",
    "    plan_result = move_group.plan()\n",
    "    if plan_result[0]:\n",
    "        joint_state = JointState()\n",
    "        joint_state.header.stamp = rospy.Time.now()\n",
    "        joint_state.name = plan_result[1].joint_trajectory.joint_names\n",
    "        joint_state.position = plan_result[1].joint_trajectory.points[-1].positions\n",
    "        moveit_robot_state = RobotState()\n",
    "        moveit_robot_state.joint_state = joint_state\n",
    "        move_group.set_start_state(moveit_robot_state)\n",
    "        (approach_plan, fraction) = move_group.compute_cartesian_path([msgify(geometry_msgs.msg.Pose, grasp_pose)], 0.01, 0.0)\n",
    "        # check whether you can approach the object\n",
    "        if fraction < 0.9:\n",
    "            continue\n",
    "        \n",
    "        joint_state.header.stamp = rospy.Time.now()\n",
    "        joint_state.position = approach_plan.joint_trajectory.points[-1].positions\n",
    "        moveit_robot_state.joint_state = joint_state\n",
    "        move_group.set_start_state(moveit_robot_state)\n",
    "        (pick_plan, fraction) = move_group.compute_cartesian_path([msgify(geometry_msgs.msg.Pose, pick_up_pose)], 0.01, 0.0)\n",
    "        # check whether you can pick the object\n",
    "        if fraction < 0.9:\n",
    "            continue\n",
    "            \n",
    "        print \"got a way to pick up the object\"\n",
    "        \n",
    "        break\n",
    "\n",
    "move_group.clear_pose_targets()\n",
    "scene.clear()"
   ]
  },
  {
   "cell_type": "code",
   "execution_count": null,
   "id": "63a79f77",
   "metadata": {},
   "outputs": [],
   "source": [
    "object_pose = Pose()\n",
    "object_pose.position.x = detected_objects.segmented_objects.objects[0].center.x\n",
    "object_pose.position.y = detected_objects.segmented_objects.objects[0].center.y\n",
    "object_pose.position.z = detected_objects.segmented_objects.objects[0].center.z\n",
    "object_pose.orientation.x = detected_objects.segmented_objects.objects[0].orientation.x\n",
    "object_pose.orientation.y = detected_objects.segmented_objects.objects[0].orientation.y\n",
    "object_pose.orientation.z = detected_objects.segmented_objects.objects[0].orientation.z\n",
    "object_pose.orientation.w = detected_objects.segmented_objects.objects[0].orientation.w\n",
    "object_pose_mat = numpify(object_pose)\n",
    "\n",
    "# get the table top pose\n",
    "table_top_pose = geometry_msgs.msg.PoseStamped()\n",
    "table_top_pose.header.frame_id = \"base_link\"\n",
    "table_top_pose.pose.orientation.x = table_info.orientation.x\n",
    "table_top_pose.pose.orientation.y = table_info.orientation.y\n",
    "table_top_pose.pose.orientation.z = table_info.orientation.z\n",
    "table_top_pose.pose.orientation.w = table_info.orientation.w\n",
    "table_top_pose.pose.position.x = table_info.center.x\n",
    "table_top_pose.pose.position.y = table_info.center.y\n",
    "table_top_pose.pose.position.z = table_info.center.z\n",
    "\n",
    "# get the object in hand pose used later for placing\n",
    "in_hand_pose = np.linalg.inv(grasp_pose).dot(object_pose_mat) # input of placing\n",
    "# get the object pose should be on the table(we should consider the table rotation as well)\n",
    "table_pose_mat = numpify(table_top_pose.pose)\n",
    "object_pose_on_table = np.linalg.inv(table_pose_mat).dot(object_pose_mat)\n",
    "object_pose_on_table[0][3] = 0.0\n",
    "object_pose_on_table[1][3] = 0.0\n",
    "print \"================= return to the planner ====================\"\n",
    "print \"object pose in hand\"\n",
    "print in_hand_pose\n",
    "print \"object pose on the table top\"\n",
    "print object_pose_on_table"
   ]
  },
  {
   "cell_type": "code",
   "execution_count": null,
   "id": "cc0ec5cf",
   "metadata": {
    "scrolled": true
   },
   "outputs": [],
   "source": [
    "## need to place object\n",
    "# search a position to place\n",
    "# get the table info\n",
    "table_info = table_searcher()\n",
    "# add table into the planning scene\n",
    "table_pose = geometry_msgs.msg.PoseStamped()\n",
    "table_pose.header.frame_id = \"base_link\"\n",
    "table_pose.pose.orientation.x = table_info.orientation.x\n",
    "table_pose.pose.orientation.y = table_info.orientation.y\n",
    "table_pose.pose.orientation.z = table_info.orientation.z\n",
    "table_pose.pose.orientation.w = table_info.orientation.w\n",
    "table_pose.pose.position.x = table_info.center.x\n",
    "table_pose.pose.position.y = table_info.center.y\n",
    "table_pose.pose.position.z = table_info.center.z / 2\n",
    "table_name = \"table\"\n",
    "scene.add_box(table_name, table_pose, size=(table_info.width, table_info.depth, table_info.center.z))\n",
    "table_pose_mat = numpify(table_pose.pose)\n",
    "\n",
    "# get the points of the table top\n",
    "points = list(point_cloud2.read_points(table_info.point_cloud, field_names=(\"x\", \"y\", \"z\"), skip_nans=True))"
   ]
  },
  {
   "cell_type": "code",
   "execution_count": null,
   "id": "c75ff14f",
   "metadata": {},
   "outputs": [],
   "source": [
    "def rotate_pose_z(pose, theta):\n",
    "    # Create the rotation matrix\n",
    "    rotation_matrix = np.array([\n",
    "        [np.cos(theta), -np.sin(theta), 0, 0],\n",
    "        [np.sin(theta), np.cos(theta), 0, 0],\n",
    "        [0, 0, 1, 0],\n",
    "        [0, 0, 0, 1]\n",
    "    ])\n",
    "\n",
    "    # Multiply the pose by the rotation matrix\n",
    "    rotated_pose = np.dot(pose, rotation_matrix)\n",
    "\n",
    "    return rotated_pose\n",
    "def rotate_pose_z_random(pose):\n",
    "    theta = np.random.uniform(0, 2*np.pi)  # Random angle between 0 and 2*pi\n",
    "    return rotate_pose_z(pose, theta)"
   ]
  },
  {
   "cell_type": "code",
   "execution_count": null,
   "id": "651f6c86",
   "metadata": {},
   "outputs": [],
   "source": [
    "attached_object = AttachedCollisionObject()\n",
    "attached_object.link_name = \"wrist_roll_link\"\n",
    "\n",
    "# Create a CollisionObject\n",
    "collision_object = CollisionObject()\n",
    "collision_object.id = \"object\"\n",
    "collision_object.header.frame_id = \"base_link\"\n",
    "\n",
    "# Create a SolidPrimitive box\n",
    "box = SolidPrimitive()\n",
    "box.type = box.BOX\n",
    "box.dimensions = [detected_objects.segmented_objects.objects[0].width, detected_objects.segmented_objects.objects[0].depth, detected_objects.segmented_objects.objects[0].height]  # Size of the box\n",
    "\n",
    "collision_object.primitives = [box]\n",
    "collision_object.primitive_poses = [msgify(geometry_msgs.msg.Pose, numpify(move_group.get_current_pose().pose).dot(in_hand_pose))]\n",
    "\n",
    "# Add the collision object into the AttachedCollisionObject message\n",
    "attached_object.object = collision_object\n",
    "attached_object.object.operation = attached_object.object.ADD\n",
    "attached_object.touch_links = [\"l_gripper_finger_link\", \"r_gripper_finger_link\", \"gripper_link\"]"
   ]
  },
  {
   "cell_type": "code",
   "execution_count": null,
   "id": "febc85f6",
   "metadata": {},
   "outputs": [],
   "source": [
    "for j in range(10):\n",
    "    move_group.set_start_state_to_current_state()\n",
    "    \n",
    "    # randomly select a point on the table and consider it as the table origin.\n",
    "    table_pose_mat[:3, 3] = random.choice(points)\n",
    "    \n",
    "    place_pose_on_table = table_pose_mat.dot(rotate_pose_z_random(object_pose_on_table))\n",
    "    \n",
    "    hand_pose_for_place = place_pose_on_table.dot(np.linalg.inv(in_hand_pose))\n",
    "    \n",
    "    hand_pose_for_pre_place = pick_shift.dot(hand_pose_for_place)\n",
    "    \n",
    "    hand_pose_for_release = hand_pose_for_place.dot(pre_grasp_shift)\n",
    "\n",
    "    trans = tf.transformations.translation_from_matrix(hand_pose_for_pre_place).tolist()\n",
    "    quat = tf.transformations.quaternion_from_matrix(hand_pose_for_pre_place).tolist()\n",
    "\n",
    "    move_group.clear_pose_targets()\n",
    "    # need to attach the object on the end-effector\n",
    "    moveit_robot_state = move_group.get_current_state()\n",
    "    moveit_robot_state.attached_collision_objects = [attached_object]\n",
    "    \n",
    "    move_group.set_start_state(moveit_robot_state)\n",
    "    \n",
    "    move_group.set_pose_target(trans + quat)\n",
    "    plan_result = move_group.plan()\n",
    "    if plan_result[0]:\n",
    "        joint_state = JointState()\n",
    "        joint_state.header.stamp = rospy.Time.now()\n",
    "        joint_state.name = plan_result[1].joint_trajectory.joint_names\n",
    "        joint_state.position = plan_result[1].joint_trajectory.points[-1].positions\n",
    "        moveit_robot_state = RobotState()\n",
    "        moveit_robot_state.joint_state = joint_state\n",
    "        move_group.set_start_state(moveit_robot_state)\n",
    "        (place_plan, fraction) = move_group.compute_cartesian_path([msgify(geometry_msgs.msg.Pose, hand_pose_for_place)], 0.01, 0.0)\n",
    "        # check whether you can place the object\n",
    "        if fraction < 0.9:\n",
    "            continue\n",
    "            \n",
    "        joint_state.header.stamp = rospy.Time.now()\n",
    "        joint_state.position = place_plan.joint_trajectory.points[-1].positions\n",
    "        moveit_robot_state.joint_state = joint_state\n",
    "        move_group.set_start_state(moveit_robot_state)\n",
    "        (release_plan, fraction) = move_group.compute_cartesian_path([msgify(geometry_msgs.msg.Pose, hand_pose_for_release)], 0.01, 0.0)\n",
    "        # check whether you can pick the object\n",
    "        if fraction < 0.9:\n",
    "            continue\n",
    "        print \"find a way to place the object\"\n",
    "        break\n",
    "\n",
    "move_group.clear_pose_targets()\n",
    "scene.clear()"
   ]
  },
  {
   "cell_type": "code",
   "execution_count": null,
   "id": "611ce36f",
   "metadata": {},
   "outputs": [],
   "source": []
  }
 ],
 "metadata": {
  "kernelspec": {
   "display_name": "Python 2",
   "language": "python",
   "name": "python2"
  },
  "language_info": {
   "codemirror_mode": {
    "name": "ipython",
    "version": 2
   },
   "file_extension": ".py",
   "mimetype": "text/x-python",
   "name": "python",
   "nbconvert_exporter": "python",
   "pygments_lexer": "ipython2",
   "version": "2.7.17"
  }
 },
 "nbformat": 4,
 "nbformat_minor": 5
}
