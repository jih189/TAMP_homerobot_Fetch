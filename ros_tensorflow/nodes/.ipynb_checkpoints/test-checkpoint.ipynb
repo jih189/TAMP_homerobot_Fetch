{
 "cells": [
  {
   "cell_type": "code",
   "execution_count": null,
   "id": "356a2909",
   "metadata": {},
   "outputs": [],
   "source": [
    "'''\n",
    "This is a script for testing if the tensorflow nodes works. Run the following commands to set up the system:\n",
    "roslaunch fetch_coppeliasim simulation.launch\n",
    "roslaunch fetch_coppeliasim fetch_control.launch\n",
    "rosrun manipulation_test grasp_visualizer\n",
    "[with the correct conda environment] rosrun ros_tensorflow grasp_prediction_server.py \n",
    "[with the correct conda environment] rosrun ros_tensorflow CoM_prediction_server.py \n",
    "'''"
   ]
  },
  {
   "cell_type": "code",
   "execution_count": 1,
   "id": "33c9200f",
   "metadata": {},
   "outputs": [],
   "source": [
    "import rospy\n",
    "import tf2_ros\n",
    "from ros_tensorflow_msgs.srv import *\n",
    "from rail_segmentation.srv import *\n",
    "from rail_manipulation_msgs.srv import *\n",
    "from geometry_msgs.msg import TransformStamped\n",
    "from manipulation_test.srv import *\n",
    "import numpy as np"
   ]
  },
  {
   "cell_type": "code",
   "execution_count": 2,
   "id": "c6749687",
   "metadata": {},
   "outputs": [],
   "source": [
    "rospy.init_node('example_node')"
   ]
  },
  {
   "cell_type": "code",
   "execution_count": 3,
   "id": "13dd6a7c",
   "metadata": {},
   "outputs": [],
   "source": [
    "# find the table first\n",
    "rospy.wait_for_service('table_searcher/search_table')\n",
    "table_searcher = rospy.ServiceProxy('table_searcher/search_table', SearchTable)"
   ]
  },
  {
   "cell_type": "code",
   "execution_count": 4,
   "id": "da6f44e8",
   "metadata": {},
   "outputs": [],
   "source": [
    "table_info = table_searcher()"
   ]
  },
  {
   "cell_type": "code",
   "execution_count": 5,
   "id": "3b981354",
   "metadata": {},
   "outputs": [],
   "source": [
    "# detect obstacle on the table\n",
    "rospy.wait_for_service('table_searcher/segment_objects')\n",
    "object_searcher = rospy.ServiceProxy('table_searcher/segment_objects', SegmentObjects)"
   ]
  },
  {
   "cell_type": "code",
   "execution_count": 6,
   "id": "10b4359a",
   "metadata": {},
   "outputs": [],
   "source": [
    "detected_objects = object_searcher()"
   ]
  },
  {
   "cell_type": "code",
   "execution_count": 7,
   "id": "27b7b675",
   "metadata": {},
   "outputs": [
    {
     "name": "stdout",
     "output_type": "stream",
     "text": [
      "detected objects' number:  1\n"
     ]
    }
   ],
   "source": [
    "print(\"detected objects' number: \", len(detected_objects.segmented_objects.objects))"
   ]
  },
  {
   "cell_type": "code",
   "execution_count": 8,
   "id": "67cada0f",
   "metadata": {},
   "outputs": [],
   "source": [
    "# get camera transform from tf tree\n",
    "tfBuffer = tf2_ros.Buffer()\n",
    "listener = tf2_ros.TransformListener(tfBuffer)"
   ]
  },
  {
   "cell_type": "code",
   "execution_count": 9,
   "id": "ed5b0090",
   "metadata": {},
   "outputs": [],
   "source": [
    "try:\n",
    "    camera_trans = tfBuffer.lookup_transform('base_link', 'head_camera_rgb_optical_frame', rospy.Time())\n",
    "except (tf2_ros.LookupException, tf2_ros.ConnectivityException, tf2_ros.ExtrapolationException):\n",
    "    print(\"tf error\")"
   ]
  },
  {
   "cell_type": "code",
   "execution_count": 10,
   "id": "48d050fa",
   "metadata": {},
   "outputs": [],
   "source": [
    "rospy.wait_for_service('grasp_predict')"
   ]
  },
  {
   "cell_type": "code",
   "execution_count": 18,
   "id": "d5810c51",
   "metadata": {},
   "outputs": [],
   "source": [
    "grasp_predictor = rospy.ServiceProxy('grasp_predict', Predict)\n",
    "try:\n",
    "    predicted_grasp_result = grasp_predictor(table_info.full_point_cloud, detected_objects.segmented_objects.objects[0].point_cloud, camera_trans)\n",
    "except rospy.ServiceException as e:\n",
    "    print(\"Service call failed: %s\"%e)"
   ]
  },
  {
   "cell_type": "code",
   "execution_count": 19,
   "id": "b50611f4",
   "metadata": {},
   "outputs": [],
   "source": [
    "# prepare the client to visualize the predicted grasp poses\n",
    "rospy.wait_for_service('visualize_regrasp')"
   ]
  },
  {
   "cell_type": "code",
   "execution_count": 20,
   "id": "40816fc3",
   "metadata": {},
   "outputs": [],
   "source": [
    "import random\n",
    "import numpy as np\n",
    "from geometry_msgs.msg import PoseStamped\n",
    "\n",
    "def pose_to_vector(pose_stamped):\n",
    "    pos = pose_stamped.pose.position\n",
    "    quat = pose_stamped.pose.orientation\n",
    "\n",
    "    return np.array([pos.x, pos.y, pos.z, quat.x, quat.y, quat.z, quat.w])\n",
    "\n",
    "def euclidean_distance(v1, v2):\n",
    "    return np.linalg.norm(v1 - v2)\n",
    "\n",
    "def k_means_clustering(poses, k, max_iterations=100):\n",
    "    # Convert poses to vectors\n",
    "    pose_vectors = [pose_to_vector(pose) for pose in poses]\n",
    "\n",
    "    # Randomly initialize centroids\n",
    "    centroids = random.sample(pose_vectors, k)\n",
    "\n",
    "    for _ in range(max_iterations):\n",
    "        # Assign pose_vectors to nearest centroids\n",
    "        clusters_indices = [[] for _ in range(k)]\n",
    "        for i, pose_vector in enumerate(pose_vectors):\n",
    "            closest_centroid_index = np.argmin([euclidean_distance(pose_vector, centroid) for centroid in centroids])\n",
    "            clusters_indices[closest_centroid_index].append(i)\n",
    "\n",
    "        # Update centroids\n",
    "        new_centroids = [np.mean([pose_vectors[i] for i in cluster], axis=0) for cluster in clusters_indices]\n",
    "\n",
    "        # Check for convergence\n",
    "        if np.allclose(centroids, new_centroids):\n",
    "            break\n",
    "\n",
    "        centroids = new_centroids\n",
    "\n",
    "    # Create clusters of PoseStamped objects\n",
    "    clusters = [[poses[i] for i in cluster] for cluster in clusters_indices]\n",
    "\n",
    "    return clusters[0]"
   ]
  },
  {
   "cell_type": "code",
   "execution_count": 21,
   "id": "7f91a82c",
   "metadata": {},
   "outputs": [],
   "source": [
    "grasp_visualizer = rospy.ServiceProxy('visualize_regrasp', VisualizeRegrasp)\n",
    "try:\n",
    "    clustered_grasp_poses = k_means_clustering(predicted_grasp_result.predicted_grasp_poses, 10)\n",
    "    grasp_visualizer(clustered_grasp_poses, [0.08 for _ in range(10)], [0 for _ in range(10)])\n",
    "except rospy.ServiceException as e:\n",
    "    print(\"Service call failed: %s\"%e)"
   ]
  },
  {
   "cell_type": "code",
   "execution_count": 22,
   "id": "c0858029",
   "metadata": {},
   "outputs": [],
   "source": [
    "# test center of mass prediction\n",
    "import sensor_msgs.point_cloud2 as pc2\n",
    "import sensor_msgs.msg as sensor_msgs\n",
    "rospy.wait_for_service('CoMPredict')"
   ]
  },
  {
   "cell_type": "code",
   "execution_count": 23,
   "id": "143a234c",
   "metadata": {},
   "outputs": [],
   "source": [
    "# generate point cloud for table\n",
    "# deprecated\n",
    "\n",
    "# plane_length = detected_objects.segmented_objects.objects[0].bounding_volume.dimensions.y*1.7\n",
    "# plane_width = detected_objects.segmented_objects.objects[0].bounding_volume.dimensions.z*1.7\n",
    "# plane_height = detected_objects.segmented_objects.objects[0].bounding_volume.dimensions.x*1.7\n",
    "# planeResolution = 0.005\n",
    "\n",
    "plane_pose = detected_objects.segmented_objects.objects[0].bounding_volume.pose\n",
    "\n",
    "# plane_pc = np.zeros((int(plane_length/planeResolution), int(plane_width/planeResolution), int(plane_height/planeResolution), 3))\n",
    "# for i in range(int(plane_length/planeResolution)):\n",
    "#     for j in range(int(plane_width/planeResolution)):\n",
    "#             plane_pc[i, j, :, :] = [- plane_height / 2.0, i*planeResolution- plane_width / 2.0, j*planeResolution- plane_length / 2.0]\n",
    "\n",
    "# # transform the point cloud by plane pose\n",
    "# # convert the quaternion to rotation matrix\n",
    "# def quat_to_rot(q):\n",
    "#     w, x, y, z = q\n",
    "#     return np.array([[1-2*y**2-2*z**2, 2*x*y-2*z*w, 2*x*z+2*y*w],\n",
    "#                      [2*x*y+2*z*w, 1-2*x**2-2*z**2, 2*y*z-2*x*w],\n",
    "#                      [2*x*z-2*y*w, 2*y*z+2*x*w, 1-2*x**2-2*y**2]])\n",
    "# R = quat_to_rot([plane_pose.pose.orientation.w, plane_pose.pose.orientation.x, plane_pose.pose.orientation.y, plane_pose.pose.orientation.z])\n",
    "\n",
    "# plane_pc = np.matmul(plane_pc, R)\n",
    "# plane_pc = plane_pc + np.array([plane_pose.pose.position.x, plane_pose.pose.position.y, plane_pose.pose.position.z])\n",
    "\n",
    "# # encode the point cloud into a ros pc2 message\n",
    "\n",
    "\n",
    "# plane_pc = plane_pc.reshape(-1, 3)\n",
    "# plane_pc_msg = pc2.create_cloud_xyz32(plane_pose.header, plane_pc)\n"
   ]
  },
  {
   "cell_type": "code",
   "execution_count": 24,
   "id": "b64825b8",
   "metadata": {},
   "outputs": [],
   "source": [
    "data = np.load(\"data_1_cam_0.npz\")\n",
    "pc = data['pc']\n",
    "labels = data['labels']\n",
    "table_pc = pc[labels == 1]\n",
    "object_pc = pc[labels == 0]\n",
    "\n",
    "# convert the point cloud to ros pc2 message\n",
    "table_pc_msg = pc2.create_cloud_xyz32(plane_pose.header, table_pc)\n",
    "object_pc_msg = pc2.create_cloud_xyz32(plane_pose.header, object_pc)\n",
    "\n",
    "# create a tf transform for the camera, which the identity matrix\n",
    "CoM_camera_trans = geometry_msgs.msg.TransformStamped()\n",
    "CoM_camera_trans.header.stamp = rospy.Time.now()\n",
    "CoM_camera_trans.header.frame_id = 'camera_link'\n",
    "CoM_camera_trans.child_frame_id = 'camera_link'\n",
    "CoM_camera_trans.transform.translation.x = 0.0\n",
    "CoM_camera_trans.transform.translation.y = 0.0\n",
    "CoM_camera_trans.transform.translation.z = 0.0\n",
    "CoM_camera_trans.transform.rotation.x = 0.0\n",
    "CoM_camera_trans.transform.rotation.y = 0.0\n",
    "CoM_camera_trans.transform.rotation.z = 0.0\n",
    "CoM_camera_trans.transform.rotation.w = 1.0"
   ]
  },
  {
   "cell_type": "code",
   "execution_count": 27,
   "id": "ca39d58f",
   "metadata": {},
   "outputs": [],
   "source": [
    "CoM_predictor = rospy.ServiceProxy('CoMPredict', ComPredict)\n",
    "try:\n",
    "    CoM_grasp_result = CoM_predictor(table_pc_msg, object_pc_msg, CoM_camera_trans)\n",
    "except rospy.ServiceException as e:\n",
    "    print(\"Service call failed: %s\"%e)"
   ]
  },
  {
   "cell_type": "code",
   "execution_count": 28,
   "id": "d26a5cc7",
   "metadata": {},
   "outputs": [
    {
     "name": "stdout",
     "output_type": "stream",
     "text": [
      "com: \n",
      "  x: 0.11123594721547911\n",
      "  y: -0.04492435990798124\n",
      "  z: 0.9625998206798431\n"
     ]
    }
   ],
   "source": [
    "print(CoM_grasp_result)"
   ]
  }
 ],
 "metadata": {
  "kernelspec": {
   "display_name": "Python 3",
   "language": "python",
   "name": "python3"
  },
  "language_info": {
   "codemirror_mode": {
    "name": "ipython",
    "version": 3
   },
   "file_extension": ".py",
   "mimetype": "text/x-python",
   "name": "python",
   "nbconvert_exporter": "python",
   "pygments_lexer": "ipython3",
   "version": "3.6.9"
  },
  "vscode": {
   "interpreter": {
    "hash": "af435429f2ae9aad7ea33a5e750c2f3e92c877c5de18278a50262269ff59d5e9"
   }
  }
 },
 "nbformat": 4,
 "nbformat_minor": 5
}
